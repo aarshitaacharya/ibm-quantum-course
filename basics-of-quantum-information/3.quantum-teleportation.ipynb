{
 "cells": [
  {
   "cell_type": "code",
   "execution_count": 2,
   "metadata": {},
   "outputs": [],
   "source": [
    "from qiskit import QuantumCircuit, QuantumRegister, ClassicalRegister\n",
    "\n",
    "from qiskit_aer import AerSimulator\n",
    "from qiskit.visualization import plot_histogram\n",
    "from qiskit.result import marginal_distribution\n",
    "from qiskit.circuit.library import UGate\n",
    "from numpy import pi, random"
   ]
  },
  {
   "cell_type": "code",
   "execution_count": 3,
   "metadata": {},
   "outputs": [
    {
     "data": {
      "text/html": [
       "<pre style=\"word-wrap: normal;white-space: pre;background: #fff0;line-height: 1.1;font-family: &quot;Courier New&quot;,Courier,monospace\">                ░      ┌───┐ ░        ░                                     »\n",
       "  Q: ───────────░───■──┤ H ├─░────────░─────────────────────────────────────»\n",
       "     ┌───┐      ░ ┌─┴─┐└───┘ ░ ┌─┐    ░                                     »\n",
       "  A: ┤ H ├──■───░─┤ X ├──────░─┤M├────░─────────────────────────────────────»\n",
       "     └───┘┌─┴─┐ ░ └───┘      ░ └╥┘┌─┐ ░ ┌────── ┌───┐ ───────┐ ┌────── ┌───┐»\n",
       "  B: ─────┤ X ├─░────────────░──╫─┤M├─░─┤ If-0  ┤ X ├  End-0 ├─┤ If-0  ┤ Z ├»\n",
       "          └───┘ ░            ░  ║ └╥┘ ░ └──╥─── └───┘ ───────┘ └──╥─── └───┘»\n",
       "                                ║  ║    ┌──╨──┐                   ║         »\n",
       "a: 1/═══════════════════════════╩══╬════╡ 0x1 ╞═══════════════════╬═════════»\n",
       "                                0  ║    └─────┘                ┌──╨──┐      »\n",
       "b: 1/══════════════════════════════╩═══════════════════════════╡ 0x1 ╞══════»\n",
       "                                   0                           └─────┘      »\n",
       "«               \n",
       "«  Q: ──────────\n",
       "«               \n",
       "«  A: ──────────\n",
       "«      ───────┐ \n",
       "«  B:   End-0 ├─\n",
       "«      ───────┘ \n",
       "«a: 1/══════════\n",
       "«               \n",
       "«b: 1/══════════\n",
       "«               </pre>"
      ],
      "text/plain": [
       "                ░      ┌───┐ ░        ░                                     »\n",
       "  Q: ───────────░───■──┤ H ├─░────────░─────────────────────────────────────»\n",
       "     ┌───┐      ░ ┌─┴─┐└───┘ ░ ┌─┐    ░                                     »\n",
       "  A: ┤ H ├──■───░─┤ X ├──────░─┤M├────░─────────────────────────────────────»\n",
       "     └───┘┌─┴─┐ ░ └───┘      ░ └╥┘┌─┐ ░ ┌────── ┌───┐ ───────┐ ┌────── ┌───┐»\n",
       "  B: ─────┤ X ├─░────────────░──╫─┤M├─░─┤ If-0  ┤ X ├  End-0 ├─┤ If-0  ┤ Z ├»\n",
       "          └───┘ ░            ░  ║ └╥┘ ░ └──╥─── └───┘ ───────┘ └──╥─── └───┘»\n",
       "                                ║  ║    ┌──╨──┐                   ║         »\n",
       "a: 1/═══════════════════════════╩══╬════╡ 0x1 ╞═══════════════════╬═════════»\n",
       "                                0  ║    └─────┘                ┌──╨──┐      »\n",
       "b: 1/══════════════════════════════╩═══════════════════════════╡ 0x1 ╞══════»\n",
       "                                   0                           └─────┘      »\n",
       "«               \n",
       "«  Q: ──────────\n",
       "«               \n",
       "«  A: ──────────\n",
       "«      ───────┐ \n",
       "«  B:   End-0 ├─\n",
       "«      ───────┘ \n",
       "«a: 1/══════════\n",
       "«               \n",
       "«b: 1/══════════\n",
       "«               "
      ]
     },
     "metadata": {},
     "output_type": "display_data"
    }
   ],
   "source": [
    "qubit = QuantumRegister(1, \"Q\")\n",
    "ebit0 = QuantumRegister(1, \"A\")\n",
    "ebit1 = QuantumRegister(1, \"B\")\n",
    "a = ClassicalRegister(1, \"a\")\n",
    "b = ClassicalRegister(1, \"b\")\n",
    "\n",
    "protocol = QuantumCircuit(qubit, ebit0, ebit1, a, b)\n",
    "\n",
    "\n",
    "protocol.h(ebit0)\n",
    "protocol.cx(ebit0, ebit1)\n",
    "protocol.barrier()\n",
    "\n",
    "\n",
    "protocol.cx(qubit, ebit0)\n",
    "protocol.h(qubit)\n",
    "protocol.barrier()\n",
    "\n",
    "\n",
    "protocol.measure(ebit0, a)\n",
    "protocol.measure(ebit1, b)\n",
    "protocol.barrier()\n",
    "\n",
    "\n",
    "with protocol.if_test((a, 1)):\n",
    "    protocol.x(ebit1)\n",
    "with protocol.if_test((b, 1)):\n",
    "    protocol.z(ebit1)\n",
    "\n",
    "display(protocol.draw())"
   ]
  },
  {
   "cell_type": "code",
   "execution_count": 13,
   "metadata": {},
   "outputs": [
    {
     "data": {
      "text/plain": [
       "array([[-0.99906617+0.j        , -0.00417523-0.04300403j],\n",
       "       [-0.03559136-0.02449559j, -0.48423625+0.87386983j]])"
      ]
     },
     "metadata": {},
     "output_type": "display_data"
    }
   ],
   "source": [
    "random_gate  = UGate(\n",
    "    theta=random.random() * 2 * pi,\n",
    "    phi=random.random() *2 *pi,\n",
    "    lam=random.random() * 2 *pi,\n",
    ")\n",
    "\n",
    "display(random_gate.to_matrix())"
   ]
  },
  {
   "cell_type": "code",
   "execution_count": 14,
   "metadata": {},
   "outputs": [
    {
     "data": {
      "text/html": [
       "<pre style=\"word-wrap: normal;white-space: pre;background: #fff0;line-height: 1.1;font-family: &quot;Courier New&quot;,Courier,monospace\">          ┌────────────────────────┐ ░            ░      ┌───┐ ░        ░ »\n",
       "       Q: ┤ U(6.1967,3.7444,1.474) ├─░────────────░───■──┤ H ├─░────────░─»\n",
       "          └────────────────────────┘ ░ ┌───┐      ░ ┌─┴─┐└───┘ ░ ┌─┐    ░ »\n",
       "       A: ───────────────────────────░─┤ H ├──■───░─┤ X ├──────░─┤M├────░─»\n",
       "                                     ░ └───┘┌─┴─┐ ░ └───┘      ░ └╥┘┌─┐ ░ »\n",
       "       B: ───────────────────────────░──────┤ X ├─░────────────░──╫─┤M├─░─»\n",
       "                                     ░      └───┘ ░            ░  ║ └╥┘ ░ »\n",
       "     a: 1/════════════════════════════════════════════════════════╩══╬════»\n",
       "                                                                  0  ║    »\n",
       "     b: 1/═══════════════════════════════════════════════════════════╩════»\n",
       "                                                                     0    »\n",
       "result: 1/════════════════════════════════════════════════════════════════»\n",
       "                                                                          »\n",
       "«                                                         ░ »\n",
       "«       Q: ───────────────────────────────────────────────░─»\n",
       "«                                                         ░ »\n",
       "«       A: ───────────────────────────────────────────────░─»\n",
       "«          ┌────── ┌───┐ ───────┐ ┌────── ┌───┐ ───────┐  ░ »\n",
       "«       B: ┤ If-0  ┤ X ├  End-0 ├─┤ If-0  ┤ Z ├  End-0 ├──░─»\n",
       "«          └──╥─── └───┘ ───────┘ └──╥─── └───┘ ───────┘  ░ »\n",
       "«          ┌──╨──┐                   ║                      »\n",
       "«     a: 1/╡ 0x1 ╞═══════════════════╬══════════════════════»\n",
       "«          └─────┘                ┌──╨──┐                   »\n",
       "«     b: 1/═══════════════════════╡ 0x1 ╞═══════════════════»\n",
       "«                                 └─────┘                   »\n",
       "«result: 1/═════════════════════════════════════════════════»\n",
       "«                                                           »\n",
       "«                                          \n",
       "«       Q: ────────────────────────────────\n",
       "«                                          \n",
       "«       A: ────────────────────────────────\n",
       "«          ┌───────────────────────────┐┌─┐\n",
       "«       B: ┤ U(-6.1967,-1.474,-3.7444) ├┤M├\n",
       "«          └───────────────────────────┘└╥┘\n",
       "«     a: 1/══════════════════════════════╬═\n",
       "«                                        ║ \n",
       "«     b: 1/══════════════════════════════╬═\n",
       "«                                        ║ \n",
       "«result: 1/══════════════════════════════╩═\n",
       "«                                        0 </pre>"
      ],
      "text/plain": [
       "          ┌────────────────────────┐ ░            ░      ┌───┐ ░        ░ »\n",
       "       Q: ┤ U(6.1967,3.7444,1.474) ├─░────────────░───■──┤ H ├─░────────░─»\n",
       "          └────────────────────────┘ ░ ┌───┐      ░ ┌─┴─┐└───┘ ░ ┌─┐    ░ »\n",
       "       A: ───────────────────────────░─┤ H ├──■───░─┤ X ├──────░─┤M├────░─»\n",
       "                                     ░ └───┘┌─┴─┐ ░ └───┘      ░ └╥┘┌─┐ ░ »\n",
       "       B: ───────────────────────────░──────┤ X ├─░────────────░──╫─┤M├─░─»\n",
       "                                     ░      └───┘ ░            ░  ║ └╥┘ ░ »\n",
       "     a: 1/════════════════════════════════════════════════════════╩══╬════»\n",
       "                                                                  0  ║    »\n",
       "     b: 1/═══════════════════════════════════════════════════════════╩════»\n",
       "                                                                     0    »\n",
       "result: 1/════════════════════════════════════════════════════════════════»\n",
       "                                                                          »\n",
       "«                                                         ░ »\n",
       "«       Q: ───────────────────────────────────────────────░─»\n",
       "«                                                         ░ »\n",
       "«       A: ───────────────────────────────────────────────░─»\n",
       "«          ┌────── ┌───┐ ───────┐ ┌────── ┌───┐ ───────┐  ░ »\n",
       "«       B: ┤ If-0  ┤ X ├  End-0 ├─┤ If-0  ┤ Z ├  End-0 ├──░─»\n",
       "«          └──╥─── └───┘ ───────┘ └──╥─── └───┘ ───────┘  ░ »\n",
       "«          ┌──╨──┐                   ║                      »\n",
       "«     a: 1/╡ 0x1 ╞═══════════════════╬══════════════════════»\n",
       "«          └─────┘                ┌──╨──┐                   »\n",
       "«     b: 1/═══════════════════════╡ 0x1 ╞═══════════════════»\n",
       "«                                 └─────┘                   »\n",
       "«result: 1/═════════════════════════════════════════════════»\n",
       "«                                                           »\n",
       "«                                          \n",
       "«       Q: ────────────────────────────────\n",
       "«                                          \n",
       "«       A: ────────────────────────────────\n",
       "«          ┌───────────────────────────┐┌─┐\n",
       "«       B: ┤ U(-6.1967,-1.474,-3.7444) ├┤M├\n",
       "«          └───────────────────────────┘└╥┘\n",
       "«     a: 1/══════════════════════════════╬═\n",
       "«                                        ║ \n",
       "«     b: 1/══════════════════════════════╬═\n",
       "«                                        ║ \n",
       "«result: 1/══════════════════════════════╩═\n",
       "«                                        0 "
      ]
     },
     "metadata": {},
     "output_type": "display_data"
    }
   ],
   "source": [
    "test = QuantumCircuit(qubit, ebit0, ebit1, a, b)\n",
    "\n",
    "test.append(random_gate, qubit)\n",
    "test.barrier()\n",
    "\n",
    "test = test.compose(protocol)\n",
    "test.barrier()\n",
    "\n",
    "test.append(random_gate.inverse(), ebit1)\n",
    "\n",
    "result = ClassicalRegister(1, \"result\")\n",
    "test.add_register(result)\n",
    "test.measure(ebit1, result)\n",
    "display(test.draw())"
   ]
  },
  {
   "cell_type": "code",
   "execution_count": 15,
   "metadata": {},
   "outputs": [
    {
     "data": {
      "image/png": "[encoded data removed]",
      "text/plain": [
       "<Figure size 432x288 with 1 Axes>"
      ]
     },
     "metadata": {},
     "output_type": "display_data"
    }
   ],
   "source": [
    "result = AerSimulator().run(test).result()\n",
    "statistics = result.get_counts()\n",
    "display(plot_histogram(statistics))"
   ]
  },
  {
   "cell_type": "code",
   "execution_count": 16,
   "metadata": {},
   "outputs": [
    {
     "data": {
      "image/png": "[encoded data removed]",
      "text/plain": [
       "<Figure size 432x288 with 1 Axes>"
      ]
     },
     "metadata": {},
     "output_type": "display_data"
    }
   ],
   "source": [
    "filtered_statistics = marginal_distribution(statistics, [2])\n",
    "display(plot_histogram(filtered_statistics))"
   ]
  }
 ],
 "metadata": {
  "kernelspec": {
   "display_name": "base",
   "language": "python",
   "name": "python3"
  },
  "language_info": {
   "codemirror_mode": {
    "name": "ipython",
    "version": 3
   },
   "file_extension": ".py",
   "mimetype": "text/x-python",
   "name": "python",
   "nbconvert_exporter": "python",
   "pygments_lexer": "ipython3",
   "version": "3.9.7"
  }
 },
 "nbformat": 4,
 "nbformat_minor": 2
}
