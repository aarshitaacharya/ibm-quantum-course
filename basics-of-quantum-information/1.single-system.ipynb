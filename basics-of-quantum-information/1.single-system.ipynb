{
 "cells": [
  {
   "cell_type": "code",
   "execution_count": 3,
   "metadata": {},
   "outputs": [
    {
     "data": {
      "text/plain": [
       "array([0.5, 0.5])"
      ]
     },
     "metadata": {},
     "output_type": "display_data"
    },
    {
     "data": {
      "text/plain": [
       "array([0.5, 0.5])"
      ]
     },
     "execution_count": 3,
     "metadata": {},
     "output_type": "execute_result"
    }
   ],
   "source": [
    "from numpy import array\n",
    "ket0 = array([1,0])\n",
    "ket1 = array([0,1])\n",
    "\n",
    "display(ket0 / 2 + ket1 / 2)\n",
    "(ket0 / 2 + ket1 / 2)"
   ]
  },
  {
   "cell_type": "code",
   "execution_count": 4,
   "metadata": {},
   "outputs": [
    {
     "data": {
      "text/plain": [
       "array([[1. , 1. ],\n",
       "       [0.5, 0. ]])"
      ]
     },
     "execution_count": 4,
     "metadata": {},
     "output_type": "execute_result"
    }
   ],
   "source": [
    "m1 = array([[1,1], [0,0]])\n",
    "m2 = array([[1,1], [1,0]])\n",
    "(m1/2 + m2/2)"
   ]
  },
  {
   "cell_type": "code",
   "execution_count": 6,
   "metadata": {},
   "outputs": [
    {
     "data": {
      "text/plain": [
       "array([1, 0])"
      ]
     },
     "metadata": {},
     "output_type": "display_data"
    },
    {
     "data": {
      "text/plain": [
       "array([[2, 1],\n",
       "       [0, 0]])"
      ]
     },
     "metadata": {},
     "output_type": "display_data"
    },
    {
     "data": {
      "text/plain": [
       "array([[1, 1],\n",
       "       [1, 1]])"
      ]
     },
     "execution_count": 6,
     "metadata": {},
     "output_type": "execute_result"
    }
   ],
   "source": [
    "from numpy import matmul\n",
    "display(matmul(m1, ket1))\n",
    "display(matmul(m1,m2))\n",
    "matmul(m2,m1)"
   ]
  },
  {
   "cell_type": "code",
   "execution_count": 8,
   "metadata": {},
   "outputs": [
    {
     "name": "stdout",
     "output_type": "stream",
     "text": [
      "Statevector([0.70710678+0.j, 0.70710678+0.j],\n",
      "            dims=(2,))\n",
      "Statevector([ 0.33333333+0.66666667j, -0.66666667+0.j        ],\n",
      "            dims=(2,))\n",
      "Statevector([0.33333333+0.j, 0.66666667+0.j],\n",
      "            dims=(2,))\n",
      "all state vectors have been defined\n"
     ]
    }
   ],
   "source": [
    "from qiskit.quantum_info import Statevector\n",
    "from numpy import sqrt\n",
    "\n",
    "u = Statevector([1 / sqrt(2), 1 / sqrt(2)])\n",
    "print(u)\n",
    "v = Statevector([(1 + 2.0j) / 3, -2 /3])\n",
    "print(v)\n",
    "w = Statevector([1/3, 2/3])\n",
    "print(w)\n",
    "\n",
    "print(\"all state vectors have been defined\")"
   ]
  },
  {
   "cell_type": "code",
   "execution_count": 9,
   "metadata": {},
   "outputs": [
    {
     "data": {
      "text/latex": [
       "$$\\frac{\\sqrt{2}}{2} |0\\rangle+\\frac{\\sqrt{2}}{2} |1\\rangle$$"
      ],
      "text/plain": [
       "<IPython.core.display.Latex object>"
      ]
     },
     "metadata": {},
     "output_type": "display_data"
    },
    {
     "data": {
      "text/plain": [
       "[ 0.33333333+0.66666667j,-0.66666667+0.j        ]"
      ]
     },
     "metadata": {},
     "output_type": "display_data"
    }
   ],
   "source": [
    "display(u.draw(\"latex\"))\n",
    "display(v.draw(\"text\"))"
   ]
  },
  {
   "cell_type": "code",
   "execution_count": 11,
   "metadata": {},
   "outputs": [
    {
     "data": {
      "text/plain": [
       "True"
      ]
     },
     "metadata": {},
     "output_type": "display_data"
    },
    {
     "data": {
      "text/plain": [
       "False"
      ]
     },
     "metadata": {},
     "output_type": "display_data"
    }
   ],
   "source": [
    "display(u.is_valid())\n",
    "display(w.is_valid())"
   ]
  },
  {
   "cell_type": "code",
   "execution_count": 12,
   "metadata": {},
   "outputs": [
    {
     "data": {
      "text/latex": [
       "$$(\\frac{1}{3} + \\frac{2 i}{3}) |0\\rangle- \\frac{2}{3} |1\\rangle$$"
      ],
      "text/plain": [
       "<IPython.core.display.Latex object>"
      ]
     },
     "execution_count": 12,
     "metadata": {},
     "output_type": "execute_result"
    }
   ],
   "source": [
    "v = Statevector([(1 + 2.0j) / 3, -2/3])\n",
    "v.draw(\"latex\")"
   ]
  },
  {
   "cell_type": "code",
   "execution_count": 13,
   "metadata": {},
   "outputs": [
    {
     "data": {
      "text/plain": [
       "True"
      ]
     },
     "execution_count": 13,
     "metadata": {},
     "output_type": "execute_result"
    }
   ],
   "source": [
    "v.is_valid()"
   ]
  },
  {
   "cell_type": "code",
   "execution_count": 19,
   "metadata": {},
   "outputs": [
    {
     "data": {
      "text/plain": [
       "('0',\n",
       " Statevector([0.4472136+0.89442719j, 0.       +0.j        ],\n",
       "             dims=(2,)))"
      ]
     },
     "execution_count": 19,
     "metadata": {},
     "output_type": "execute_result"
    }
   ],
   "source": [
    "v.measure()"
   ]
  },
  {
   "cell_type": "code",
   "execution_count": 20,
   "metadata": {},
   "outputs": [
    {
     "ename": "ValueError",
     "evalue": "probabilities do not sum to 1",
     "output_type": "error",
     "traceback": [
      "\u001b[1;31m---------------------------------------------------------------------------\u001b[0m",
      "\u001b[1;31mValueError\u001b[0m                                Traceback (most recent call last)",
      "Cell \u001b[1;32mIn[20], line 2\u001b[0m\n\u001b[0;32m      1\u001b[0m \u001b[38;5;66;03m#intentional testing of error\u001b[39;00m\n\u001b[1;32m----> 2\u001b[0m \u001b[43mw\u001b[49m\u001b[38;5;241;43m.\u001b[39;49m\u001b[43mmeasure\u001b[49m\u001b[43m(\u001b[49m\u001b[43m)\u001b[49m\n",
      "File \u001b[1;32mc:\\Users\\admin\\anaconda3\\lib\\site-packages\\qiskit\\quantum_info\\states\\quantum_state.py:327\u001b[0m, in \u001b[0;36mQuantumState.measure\u001b[1;34m(self, qargs)\u001b[0m\n\u001b[0;32m    325\u001b[0m dims \u001b[38;5;241m=\u001b[39m \u001b[38;5;28mself\u001b[39m\u001b[38;5;241m.\u001b[39mdims(qargs)\n\u001b[0;32m    326\u001b[0m probs \u001b[38;5;241m=\u001b[39m \u001b[38;5;28mself\u001b[39m\u001b[38;5;241m.\u001b[39mprobabilities(qargs)\n\u001b[1;32m--> 327\u001b[0m sample \u001b[38;5;241m=\u001b[39m \u001b[38;5;28;43mself\u001b[39;49m\u001b[38;5;241;43m.\u001b[39;49m\u001b[43m_rng\u001b[49m\u001b[38;5;241;43m.\u001b[39;49m\u001b[43mchoice\u001b[49m\u001b[43m(\u001b[49m\u001b[38;5;28;43mlen\u001b[39;49m\u001b[43m(\u001b[49m\u001b[43mprobs\u001b[49m\u001b[43m)\u001b[49m\u001b[43m,\u001b[49m\u001b[43m \u001b[49m\u001b[43mp\u001b[49m\u001b[38;5;241;43m=\u001b[39;49m\u001b[43mprobs\u001b[49m\u001b[43m,\u001b[49m\u001b[43m \u001b[49m\u001b[43msize\u001b[49m\u001b[38;5;241;43m=\u001b[39;49m\u001b[38;5;241;43m1\u001b[39;49m\u001b[43m)\u001b[49m\n\u001b[0;32m    329\u001b[0m \u001b[38;5;66;03m# Format outcome\u001b[39;00m\n\u001b[0;32m    330\u001b[0m outcome \u001b[38;5;241m=\u001b[39m \u001b[38;5;28mself\u001b[39m\u001b[38;5;241m.\u001b[39m_index_to_ket_array(sample, \u001b[38;5;28mself\u001b[39m\u001b[38;5;241m.\u001b[39mdims(qargs), string_labels\u001b[38;5;241m=\u001b[39m\u001b[38;5;28;01mTrue\u001b[39;00m)[\u001b[38;5;241m0\u001b[39m]\n",
      "File \u001b[1;32mnumpy\\\\random\\\\_generator.pyx:828\u001b[0m, in \u001b[0;36mnumpy.random._generator.Generator.choice\u001b[1;34m()\u001b[0m\n",
      "\u001b[1;31mValueError\u001b[0m: probabilities do not sum to 1"
     ]
    }
   ],
   "source": [
    "#intentional testing of error\n",
    "w.measure()"
   ]
  },
  {
   "cell_type": "code",
   "execution_count": 23,
   "metadata": {},
   "outputs": [
    {
     "data": {
      "text/plain": [
       "{'0': 508, '1': 492}"
      ]
     },
     "metadata": {},
     "output_type": "display_data"
    },
    {
     "data": {
      "image/png": "[encoded data removed]",
      "text/plain": [
       "<Figure size 432x288 with 1 Axes>"
      ]
     },
     "execution_count": 23,
     "metadata": {},
     "output_type": "execute_result"
    }
   ],
   "source": [
    "from qiskit.visualization import plot_histogram\n",
    "\n",
    "statistics = v.sample_counts(1000)\n",
    "display(statistics)\n",
    "plot_histogram(statistics)"
   ]
  },
  {
   "cell_type": "code",
   "execution_count": 26,
   "metadata": {},
   "outputs": [
    {
     "data": {
      "text/latex": [
       "$$(0.8535533906 + 0.3535533906 i) |0\\rangle+(-0.3535533906 + 0.1464466094 i) |1\\rangle$$"
      ],
      "text/plain": [
       "<IPython.core.display.Latex object>"
      ]
     },
     "execution_count": 26,
     "metadata": {},
     "output_type": "execute_result"
    }
   ],
   "source": [
    "from qiskit.quantum_info import Operator\n",
    "\n",
    "X = Operator([[0,1], [1,0]])\n",
    "Y = Operator([[0, -1.0j], [1.0j, 0]])\n",
    "Z = Operator([[1, 0], [0, -1]])\n",
    "H = Operator([[1 / sqrt(2), 1 / sqrt(2)], [1 / sqrt(2), -1 / sqrt(2)]])\n",
    "S = Operator([[1, 0], [0, 1.0j]])\n",
    "T = Operator([[1, 0], [0, (1 + 1.0j) / sqrt(2)]])\n",
    "\n",
    "v = Statevector([1,0])\n",
    "v = v.evolve(H)\n",
    "v = v.evolve(T)\n",
    "v = v.evolve(H)\n",
    "v = v.evolve(T)\n",
    "v = v.evolve(Z)\n",
    "\n",
    "v.draw(\"latex\")"
   ]
  },
  {
   "cell_type": "code",
   "execution_count": 27,
   "metadata": {},
   "outputs": [
    {
     "data": {
      "text/html": [
       "<pre style=\"word-wrap: normal;white-space: pre;background: #fff0;line-height: 1.1;font-family: &quot;Courier New&quot;,Courier,monospace\">   ┌───┐┌───┐┌───┐┌───┐┌───┐\n",
       "q: ┤ H ├┤ T ├┤ H ├┤ T ├┤ Z ├\n",
       "   └───┘└───┘└───┘└───┘└───┘</pre>"
      ],
      "text/plain": [
       "   ┌───┐┌───┐┌───┐┌───┐┌───┐\n",
       "q: ┤ H ├┤ T ├┤ H ├┤ T ├┤ Z ├\n",
       "   └───┘└───┘└───┘└───┘└───┘"
      ]
     },
     "execution_count": 27,
     "metadata": {},
     "output_type": "execute_result"
    }
   ],
   "source": [
    "from qiskit import QuantumCircuit\n",
    "circuit = QuantumCircuit(1)\n",
    "circuit.h(0)\n",
    "circuit.t(0)\n",
    "circuit.h(0)\n",
    "circuit.t(0)\n",
    "circuit.z(0)\n",
    "\n",
    "circuit.draw()"
   ]
  },
  {
   "cell_type": "code",
   "execution_count": 28,
   "metadata": {},
   "outputs": [
    {
     "data": {
      "text/latex": [
       "$$(0.8535533906 + 0.3535533906 i) |0\\rangle+(-0.3535533906 + 0.1464466094 i) |1\\rangle$$"
      ],
      "text/plain": [
       "<IPython.core.display.Latex object>"
      ]
     },
     "execution_count": 28,
     "metadata": {},
     "output_type": "execute_result"
    }
   ],
   "source": [
    "ket0 = Statevector([1,0])\n",
    "v = ket0.evolve(circuit)\n",
    "v.draw(\"latex\")"
   ]
  },
  {
   "cell_type": "code",
   "execution_count": 29,
   "metadata": {},
   "outputs": [
    {
     "data": {
      "image/png": "[encoded data removed]",
      "text/plain": [
       "<Figure size 432x288 with 1 Axes>"
      ]
     },
     "execution_count": 29,
     "metadata": {},
     "output_type": "execute_result"
    }
   ],
   "source": [
    "statistics = v.sample_counts(1000)\n",
    "plot_histogram(statistics)"
   ]
  }
 ],
 "metadata": {
  "kernelspec": {
   "display_name": "base",
   "language": "python",
   "name": "python3"
  },
  "language_info": {
   "codemirror_mode": {
    "name": "ipython",
    "version": 3
   },
   "file_extension": ".py",
   "mimetype": "text/x-python",
   "name": "python",
   "nbconvert_exporter": "python",
   "pygments_lexer": "ipython3",
   "version": "3.9.7"
  }
 },
 "nbformat": 4,
 "nbformat_minor": 2
}
