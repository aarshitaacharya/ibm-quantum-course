{
 "cells": [
  {
   "cell_type": "markdown",
   "metadata": {},
   "source": [
    "### DH key exchange"
   ]
  },
  {
   "cell_type": "code",
   "execution_count": 1,
   "metadata": {},
   "outputs": [
    {
     "name": "stdout",
     "output_type": "stream",
     "text": [
      "prime: 11\n",
      "primitive root: 7\n"
     ]
    }
   ],
   "source": [
    "# prime number p, primitive root a\n",
    "\n",
    "p = 11\n",
    "a = 7\n",
    "\n",
    "print(f\"prime: {p}\")\n",
    "print(f\"primitive root: {a}\")"
   ]
  },
  {
   "cell_type": "markdown",
   "metadata": {},
   "source": [
    "Alice will choose a secret exponent k_A and calculate h_A. Similarly bob will choose k-B and calcualte h_B"
   ]
  },
  {
   "cell_type": "code",
   "execution_count": 2,
   "metadata": {},
   "outputs": [
    {
     "name": "stdout",
     "output_type": "stream",
     "text": [
      "Alice's private key is 4, and public key = 3\n",
      "Bob's private key is 8, and public key = 9\n"
     ]
    }
   ],
   "source": [
    "k_A = 4\n",
    "h_A = (a ** (k_A)) % p\n",
    "print(f\"Alice's private key is {k_A}, and public key = {h_A}\")\n",
    "\n",
    "k_B = 8\n",
    "h_B = (a ** (k_B)) % p\n",
    "print(f\"Bob's private key is {k_B}, and public key = {h_B}\")"
   ]
  },
  {
   "cell_type": "code",
   "execution_count": 3,
   "metadata": {},
   "outputs": [
    {
     "name": "stdout",
     "output_type": "stream",
     "text": [
      "Shared secret key is: 5\n"
     ]
    }
   ],
   "source": [
    "secret_key_alice = h_B ** k_A % p\n",
    "secret_key_bob = h_A ** k_B % p\n",
    "\n",
    "\n",
    "assert(secret_key_alice == secret_key_bob)\n",
    "\n",
    "print(f\"Shared secret key is: {secret_key_alice}\")"
   ]
  }
 ],
 "metadata": {
  "kernelspec": {
   "display_name": "base",
   "language": "python",
   "name": "python3"
  },
  "language_info": {
   "codemirror_mode": {
    "name": "ipython",
    "version": 3
   },
   "file_extension": ".py",
   "mimetype": "text/x-python",
   "name": "python",
   "nbconvert_exporter": "python",
   "pygments_lexer": "ipython3",
   "version": "3.9.7"
  }
 },
 "nbformat": 4,
 "nbformat_minor": 2
}
