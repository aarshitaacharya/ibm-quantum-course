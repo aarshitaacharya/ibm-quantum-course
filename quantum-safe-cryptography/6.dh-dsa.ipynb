{
 "cells": [
  {
   "cell_type": "markdown",
   "metadata": {},
   "source": [
    "### Authenticated key exchange with DH and DSA"
   ]
  },
  {
   "cell_type": "code",
   "execution_count": 1,
   "metadata": {},
   "outputs": [],
   "source": [
    "from cryptography.hazmat.primitives import hashes, serialization\n",
    "from cryptography.hazmat.primitives.asymmetric import dh, dsa\n",
    "from cryptography.hazmat.primitives.kdf.hkdf import HKDF"
   ]
  },
  {
   "cell_type": "code",
   "execution_count": 2,
   "metadata": {},
   "outputs": [
    {
     "name": "stdout",
     "output_type": "stream",
     "text": [
      "public and private keys for alice and bob have been generated\n"
     ]
    }
   ],
   "source": [
    "parameters = dh.generate_parameters(generator=2, key_size=2048)\n",
    "alice_dh_private_key = parameters.generate_private_key()\n",
    "alice_dh_public_key = alice_dh_private_key.public_key()\n",
    "\n",
    "bob_dh_private_key = parameters.generate_private_key()\n",
    "bob_dh_public_key = bob_dh_private_key.public_key()\n",
    "\n",
    "print(\"public and private keys for alice and bob have been generated\")\n"
   ]
  },
  {
   "cell_type": "code",
   "execution_count": 3,
   "metadata": {},
   "outputs": [
    {
     "name": "stdout",
     "output_type": "stream",
     "text": [
      "additional pairs for signing generated!\n"
     ]
    }
   ],
   "source": [
    "alice_dsa_private_key = dsa.generate_private_key(key_size=2048)\n",
    "alice_dsa_public_key = alice_dsa_private_key.public_key()\n",
    "bob_dsa_private_key = dsa.generate_private_key(key_size=2048)\n",
    "bob_dsa_public_key = bob_dsa_private_key.public_key()\n",
    "\n",
    "print(\"additional pairs for signing generated!\")"
   ]
  },
  {
   "cell_type": "markdown",
   "metadata": {},
   "source": [
    "Now, alice will sign her dh public key using dsa private key"
   ]
  },
  {
   "cell_type": "code",
   "execution_count": 5,
   "metadata": {},
   "outputs": [
    {
     "name": "stdout",
     "output_type": "stream",
     "text": [
      "alice signed her public key\n"
     ]
    }
   ],
   "source": [
    "alice_public_bytes = alice_dh_public_key.public_bytes(\n",
    "    encoding=serialization.Encoding.PEM,\n",
    "    format=serialization.PublicFormat.SubjectPublicKeyInfo\n",
    ")\n",
    "\n",
    "alice_signature = alice_dsa_private_key.sign(alice_public_bytes, hashes.SHA256())\n",
    "print(\"alice signed her public key\")"
   ]
  },
  {
   "cell_type": "code",
   "execution_count": 6,
   "metadata": {},
   "outputs": [
    {
     "name": "stdout",
     "output_type": "stream",
     "text": [
      "Bob signed public key\n"
     ]
    }
   ],
   "source": [
    "bob_public_bytes = bob_dh_public_key.public_bytes(\n",
    "    encoding=serialization.Encoding.PEM,\n",
    "    format=serialization.PublicFormat.SubjectPublicKeyInfo)\n",
    "bob_signature = bob_dsa_private_key.sign(bob_public_bytes, hashes.SHA256())\n",
    "\n",
    "print(\"Bob signed public key\")"
   ]
  },
  {
   "cell_type": "markdown",
   "metadata": {},
   "source": [
    "Now, verify if the signatures are valid"
   ]
  },
  {
   "cell_type": "code",
   "execution_count": 8,
   "metadata": {},
   "outputs": [
    {
     "name": "stdout",
     "output_type": "stream",
     "text": [
      "yaya valid signatures\n"
     ]
    }
   ],
   "source": [
    "alice_dsa_public_key.verify(alice_signature, alice_public_bytes, hashes.SHA256())\n",
    "\n",
    "bob_dsa_public_key.verify(bob_signature, bob_public_bytes, hashes.SHA256())\n",
    "\n",
    "print(\"yaya valid signatures\")"
   ]
  },
  {
   "cell_type": "code",
   "execution_count": 10,
   "metadata": {},
   "outputs": [
    {
     "name": "stdout",
     "output_type": "stream",
     "text": [
      "shared secrets have been generated\n"
     ]
    }
   ],
   "source": [
    "alice_shared_key = alice_dh_private_key.exchange(bob_dh_public_key)\n",
    "bob_shared_key = bob_dh_private_key.exchange(alice_dh_public_key)\n",
    "\n",
    "print(\"shared secrets have been generated\")"
   ]
  },
  {
   "cell_type": "markdown",
   "metadata": {},
   "source": [
    "Optionally, we can use a specialized kdf to generate a more secture symmetric key"
   ]
  },
  {
   "cell_type": "code",
   "execution_count": 12,
   "metadata": {},
   "outputs": [
    {
     "name": "stdout",
     "output_type": "stream",
     "text": [
      "keys same\n"
     ]
    }
   ],
   "source": [
    "def derive_key(shared_key):\n",
    "    return HKDF(\n",
    "        algorithm=hashes.SHA256(),\n",
    "        length=32,\n",
    "        salt=None,\n",
    "        info=None\n",
    "    ).derive(shared_key)\n",
    "\n",
    "alice_symmetric_key = derive_key(alice_shared_key)\n",
    "bob_symmetric_key = derive_key(bob_shared_key)\n",
    "\n",
    "assert(alice_symmetric_key == bob_symmetric_key)\n",
    "print(\"keys same\")"
   ]
  }
 ],
 "metadata": {
  "kernelspec": {
   "display_name": "base",
   "language": "python",
   "name": "python3"
  },
  "language_info": {
   "codemirror_mode": {
    "name": "ipython",
    "version": 3
   },
   "file_extension": ".py",
   "mimetype": "text/x-python",
   "name": "python",
   "nbconvert_exporter": "python",
   "pygments_lexer": "ipython3",
   "version": "3.9.7"
  }
 },
 "nbformat": 4,
 "nbformat_minor": 2
}
