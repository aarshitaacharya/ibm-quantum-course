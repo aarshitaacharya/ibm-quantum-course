{
 "cells": [
  {
   "cell_type": "markdown",
   "metadata": {},
   "source": [
    "### Digital Signature Algorithm (DSA)"
   ]
  },
  {
   "cell_type": "code",
   "execution_count": 2,
   "metadata": {},
   "outputs": [
    {
     "name": "stdout",
     "output_type": "stream",
     "text": [
      "public information looks good. p = 23, q= 11, g=4\n"
     ]
    }
   ],
   "source": [
    "from random import randint\n",
    "\n",
    "q = 11\n",
    "p = 23\n",
    "g = 4\n",
    "\n",
    "assert((p - 1) % q == 0)\n",
    "assert(g >= 2)\n",
    "assert(g <= (p -2))\n",
    "assert(pow(g, (p-1)/q) != 1)\n",
    "\n",
    "print(f\"public information looks good. p = {p}, q= {q}, g={g}\")"
   ]
  },
  {
   "cell_type": "code",
   "execution_count": 8,
   "metadata": {},
   "outputs": [
    {
     "name": "stdout",
     "output_type": "stream",
     "text": [
      "Alice private key is: 4\n"
     ]
    }
   ],
   "source": [
    "alice_private_key = randint(2, q-1)\n",
    "assert(alice_private_key>=2 & alice_private_key <= (q-1) )\n",
    "print(f\"Alice private key is: {alice_private_key}\")"
   ]
  },
  {
   "cell_type": "code",
   "execution_count": 9,
   "metadata": {},
   "outputs": [
    {
     "name": "stdout",
     "output_type": "stream",
     "text": [
      "alice public key = 3\n"
     ]
    }
   ],
   "source": [
    "alice_public_key = pow(g, alice_private_key, p)\n",
    "print(f\"alice public key = {alice_public_key}\")"
   ]
  },
  {
   "cell_type": "markdown",
   "metadata": {},
   "source": [
    "now, alice needs to sign this message"
   ]
  },
  {
   "cell_type": "code",
   "execution_count": 10,
   "metadata": {},
   "outputs": [
    {
     "name": "stdout",
     "output_type": "stream",
     "text": [
      "Inspection tommorrow!\n",
      "alice's hash is:  11\n"
     ]
    }
   ],
   "source": [
    "hash_dict = {}\n",
    "def mock_hash_function(inp):\n",
    "    print(inp)\n",
    "    if not inp in hash_dict:\n",
    "        hash_dict[inp] = randint(1, q)\n",
    "    return hash_dict[inp]\n",
    "\n",
    "alice_message = \"Inspection tommorrow!\"\n",
    "alice_hash = mock_hash_function(alice_message)\n",
    "print(\"alice's hash is: \", alice_hash)"
   ]
  },
  {
   "cell_type": "markdown",
   "metadata": {},
   "source": [
    "Now Alice needs a random per-message secret number k as well as its multiplicative inverse modulo q to compute the signature. There are 2 ways we can compute this modulo inverse:"
   ]
  },
  {
   "cell_type": "code",
   "execution_count": 17,
   "metadata": {},
   "outputs": [
    {
     "name": "stdout",
     "output_type": "stream",
     "text": [
      "modular_inverse(3,7) = 5\n",
      "modular_inverse(4,11) = 3\n",
      "modular_inverse(7,5) = 3\n",
      "Error! no inverse found\n",
      "exception from pow- no modulo inverse found ..\n"
     ]
    }
   ],
   "source": [
    "def modular_inverse(k, q):\n",
    "    for i in range(0, q):\n",
    "        if(k * i) % q == 1:\n",
    "            return i\n",
    "    print(f\"Error! no inverse found\")\n",
    "    return 0\n",
    "\n",
    "n1=modular_inverse(3,7)\n",
    "n2=modular_inverse(4,11)\n",
    "n3=modular_inverse(7,5)\n",
    "m1=pow(3,-1,7)\n",
    "m2=pow(4,-1,11)\n",
    "m3=pow(7,-1,5)\n",
    "\n",
    "assert(n1 == m1)\n",
    "assert(n2 == m2)\n",
    "assert(n3 == m3)\n",
    "print (f\"modular_inverse(3,7) = {m1}\")\n",
    "print (f\"modular_inverse(4,11) = {m2}\")\n",
    "print (f\"modular_inverse(7,5) = {m3}\")\n",
    "\n",
    "n4 = modular_inverse(2,6)\n",
    "try:\n",
    "    m4 = pow(2,-1,6)\n",
    "except:\n",
    "    print(\"exception from pow- no modulo inverse found ..\")\n",
    "\n",
    "\n",
    "\n"
   ]
  },
  {
   "cell_type": "markdown",
   "metadata": {},
   "source": [
    "Now, we can compute the signature:"
   ]
  },
  {
   "cell_type": "code",
   "execution_count": 23,
   "metadata": {},
   "outputs": [
    {
     "name": "stdout",
     "output_type": "stream",
     "text": [
      "using random k = 3\n",
      "Alice's signature is: (7, 2)\n"
     ]
    }
   ],
   "source": [
    "signed = False\n",
    "while(signed == False):\n",
    "    k = randint(1, q-1)\n",
    "    print(\"using random k =\", k)\n",
    "\n",
    "    r = pow(g,k,p) % q\n",
    "\n",
    "    if(r ==0):\n",
    "        print(f\"{k} is not a good value to calculate r, try again..\")\n",
    "        continue\n",
    "\n",
    "    s = (pow(k,-1, q) * (alice_hash + alice_private_key * r)) % q\n",
    "\n",
    "    if(s==0):\n",
    "        print(f\"{k} is not a good vlaue to calculate s, try again..\")\n",
    "        continue\n",
    "\n",
    "    signed = True\n",
    "\n",
    "signature = (r,s)\n",
    "print(f\"Alice's signature is: {(r,s)}\")"
   ]
  },
  {
   "cell_type": "markdown",
   "metadata": {},
   "source": [
    "Bob will now re-generate the message, and verify the signature"
   ]
  },
  {
   "cell_type": "code",
   "execution_count": 24,
   "metadata": {},
   "outputs": [
    {
     "name": "stdout",
     "output_type": "stream",
     "text": [
      "Inspection tommorrow!\n",
      "signature valid\n"
     ]
    }
   ],
   "source": [
    "bob_hash = mock_hash_function(alice_message)\n",
    "\n",
    "w = (pow(s,-1,q)) % q\n",
    "u1 = (bob_hash * w) % q\n",
    "u2 = (r * w) % q\n",
    "v = ((g**u1 * alice_public_key**u2) %p) %q\n",
    "\n",
    "if(v == r):\n",
    "    print(\"signature valid\")\n",
    "else:\n",
    "    print(\"signature invalid\")"
   ]
  }
 ],
 "metadata": {
  "kernelspec": {
   "display_name": "base",
   "language": "python",
   "name": "python3"
  },
  "language_info": {
   "codemirror_mode": {
    "name": "ipython",
    "version": 3
   },
   "file_extension": ".py",
   "mimetype": "text/x-python",
   "name": "python",
   "nbconvert_exporter": "python",
   "pygments_lexer": "ipython3",
   "version": "3.9.7"
  }
 },
 "nbformat": 4,
 "nbformat_minor": 2
}
