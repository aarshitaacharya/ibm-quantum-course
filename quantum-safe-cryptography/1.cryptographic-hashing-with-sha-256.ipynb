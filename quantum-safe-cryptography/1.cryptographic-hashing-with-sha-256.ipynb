{
 "cells": [
  {
   "cell_type": "markdown",
   "metadata": {},
   "source": [
    "### SHA-256 Algorithm\n",
    "Let us show how a minor difference in plain text can lead to very large difference in hash digest"
   ]
  },
  {
   "cell_type": "code",
   "execution_count": 2,
   "metadata": {},
   "outputs": [
    {
     "name": "stdout",
     "output_type": "stream",
     "text": [
      "The two messages differ by 1 character(s)\n"
     ]
    }
   ],
   "source": [
    "from cryptography.hazmat.backends import default_backend\n",
    "from cryptography.hazmat.primitives import hashes\n",
    "\n",
    "def char_diff(str1, str2):\n",
    "    return sum( str1[i] != str2[i] for i in range (len(str1)))\n",
    "\n",
    "message1 = b\"Buy 10000 shares of WXYZ stock now!\"\n",
    "message2 = b\"Buy 10000 shares of VXYZ stock now!\"\n",
    "\n",
    "print(f\"The two messages differ by { char_diff(message1, message2)} character(s)\")"
   ]
  },
  {
   "cell_type": "code",
   "execution_count": 9,
   "metadata": {},
   "outputs": [
    {
     "name": "stdout",
     "output_type": "stream",
     "text": [
      "digest-1: 6e0e6261b7131bd80ffdb2a4d42f9d042636350e45e184b92fcbcc9646eaf1e7\n",
      "digest-2: 6b0abb368c3a1730f935b68105e3f3ae7fd43d7e786d3ed3503dbb45c74ada46\n",
      "The two digests differ by 57 characters\n"
     ]
    }
   ],
   "source": [
    "chf1 = hashes.Hash(hashes.SHA256(), backend=default_backend())\n",
    "chf2 = hashes.Hash(hashes.SHA256(), backend=default_backend())\n",
    "\n",
    "chf1.update(message1)\n",
    "chf2.update(message2)\n",
    "\n",
    "digest1 = chf1.finalize()\n",
    "digest2 = chf2.finalize()\n",
    "\n",
    "digest1_str = digest1.hex()\n",
    "digest2_str = digest2.hex()\n",
    "\n",
    "print(f\"digest-1: {digest1_str}\")\n",
    "print(f\"digest-2: {digest2_str}\")\n",
    "\n",
    "print(f\"The two digests differ by { char_diff(digest1_str, digest2_str)} characters\")"
   ]
  }
 ],
 "metadata": {
  "kernelspec": {
   "display_name": "base",
   "language": "python",
   "name": "python3"
  },
  "language_info": {
   "codemirror_mode": {
    "name": "ipython",
    "version": 3
   },
   "file_extension": ".py",
   "mimetype": "text/x-python",
   "name": "python",
   "nbconvert_exporter": "python",
   "pygments_lexer": "ipython3",
   "version": "3.9.7"
  }
 },
 "nbformat": 4,
 "nbformat_minor": 2
}
