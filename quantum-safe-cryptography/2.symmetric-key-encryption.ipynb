{
 "cells": [
  {
   "cell_type": "markdown",
   "metadata": {},
   "source": [
    "### Symmetric key encryption\n",
    "Let us use classical Caesar shift cipher and modern Advanced Encryption System for a simple encrypt and decrypt operation."
   ]
  },
  {
   "cell_type": "code",
   "execution_count": 13,
   "metadata": {},
   "outputs": [
    {
     "name": "stdout",
     "output_type": "stream",
     "text": [
      "\n",
      "Given plaintex: this is a top secret message for intended recipients only\n"
     ]
    }
   ],
   "source": [
    "from secretpy import Caesar\n",
    "from cryptography.hazmat.primitives.ciphers import Cipher, algorithms, modes\n",
    "\n",
    "from functools import reduce\n",
    "import numpy as np\n",
    "\n",
    "plaintext=u\"this is a top secret message for intended recipients only\"\n",
    "print(f\"\\nGiven plaintex: {plaintext}\")"
   ]
  },
  {
   "cell_type": "markdown",
   "metadata": {},
   "source": [
    "### Caesar shift cipher:"
   ]
  },
  {
   "cell_type": "code",
   "execution_count": 16,
   "metadata": {},
   "outputs": [
    {
     "name": "stdout",
     "output_type": "stream",
     "text": [
      "Caesar shift secret key: 5\n",
      "alphabet: ('a', 'b', 'c', 'd', 'e', 'f', 'g', 'h', 'i', 'j', 'k', 'l', 'm', 'n', 'o', 'p', 'q', 'r', 's', 't', 'u', 'v', 'w', 'x', 'y', 'z', ' ')\n"
     ]
    }
   ],
   "source": [
    "caesar_cipher = Caesar()\n",
    "caeser_key = 5\n",
    "print(f\"Caesar shift secret key: {caeser_key}\")\n",
    "alphabet=('a', 'b', 'c', 'd', 'e', 'f', 'g', 'h', 'i', 'j', 'k', 'l', 'm', 'n', 'o', 'p', 'q', 'r', 's', 't', 'u', 'v', 'w', 'x', 'y', 'z', ' ')\n",
    "print(f\"alphabet: {alphabet}\")\n"
   ]
  },
  {
   "cell_type": "code",
   "execution_count": 17,
   "metadata": {},
   "outputs": [
    {
     "name": "stdout",
     "output_type": "stream",
     "text": [
      "Encrypted caeser shift ciphertext: ymnxenxefeytuexjhwjyerjxxfljektwensyjsijiewjhnunjsyxetsqc\n"
     ]
    }
   ],
   "source": [
    "caeser_ciphertext = caesar_cipher.encrypt(plaintext, caeser_key, alphabet)\n",
    "print(f\"Encrypted caeser shift ciphertext: {caeser_ciphertext}\")"
   ]
  },
  {
   "cell_type": "code",
   "execution_count": 19,
   "metadata": {},
   "outputs": [
    {
     "name": "stdout",
     "output_type": "stream",
     "text": [
      "Decrypted caeser shift plaintext: this is a top secret message for intended recipients only\n"
     ]
    }
   ],
   "source": [
    "caeser_plaintext = caesar_cipher.decrypt(caeser_ciphertext, caeser_key, alphabet)\n",
    "print(f\"Decrypted caeser shift plaintext: {caeser_plaintext}\")"
   ]
  },
  {
   "cell_type": "markdown",
   "metadata": {},
   "source": [
    "### Advanced encryption standard (AES cipher)"
   ]
  },
  {
   "cell_type": "code",
   "execution_count": 25,
   "metadata": {},
   "outputs": [
    {
     "name": "stdout",
     "output_type": "stream",
     "text": [
      "AES secret key: dn nuwrcffaq tyi\n"
     ]
    }
   ],
   "source": [
    "aes_key = reduce(lambda a, b: a + b, [np.random.choice(alphabet) for i in range(16)])\n",
    "\n",
    "print(f'AES secret key: {aes_key}')"
   ]
  },
  {
   "cell_type": "code",
   "execution_count": 26,
   "metadata": {},
   "outputs": [
    {
     "name": "stdout",
     "output_type": "stream",
     "text": [
      "AES initialization vector: dqaqgiad gsfnciy\n"
     ]
    }
   ],
   "source": [
    "aes_initialization_vector = reduce(lambda a, b: a + b, [np.random.choice(alphabet) for i in range(16)])\n",
    "print(f\"AES initialization vector: {aes_initialization_vector}\")"
   ]
  },
  {
   "cell_type": "code",
   "execution_count": 36,
   "metadata": {},
   "outputs": [
    {
     "name": "stdout",
     "output_type": "stream",
     "text": [
      "Encrypted AES ciphertext: b'\\x8e\\x07\\xcfS\\xc7\\xf5\\xd7\\xfd\\xf6\\x15\\xc9\\x00\\xd7\\xc3\\x046Gu\\x02z\\xd1\\xec\\xe2\\x82sk1\\x88\\x1b\\xa7ZkA\\x80\\x00(;\\x9b\\xbb\\x0c\\xdf.,\\xd9\\xacT>\\xa6\\x11v\\xba}\\xa4\\x84\\xe4\\xce\\xbaI\\x96\\xb4\\x05\\xe0\\x7f|'\n"
     ]
    }
   ],
   "source": [
    "from cryptography.hazmat.primitives.padding import PKCS7\n",
    "\n",
    "block_size = 128 \n",
    "padder = PKCS7(block_size).padder()\n",
    "padded_plaintext = padder.update(bytes(plaintext, 'utf-8')) + padder.finalize()\n",
    "\n",
    "sender_aes_cipher = Cipher(\n",
    "    algorithms.AES(bytes(aes_key, 'utf-8')),\n",
    "    modes.CBC(bytes(aes_initialization_vector, 'utf-8'))\n",
    ")\n",
    "aes_encryptor = sender_aes_cipher.encryptor()\n",
    "\n",
    "aes_ciphertext = aes_encryptor.update(padded_plaintext) + aes_encryptor.finalize()\n",
    "\n",
    "print(f\"Encrypted AES ciphertext: {aes_ciphertext}\")"
   ]
  },
  {
   "cell_type": "code",
   "execution_count": 37,
   "metadata": {},
   "outputs": [
    {
     "name": "stdout",
     "output_type": "stream",
     "text": [
      "Decrypted AES plaintext: b'this is a top secret message for intended recipients only\\x07\\x07\\x07\\x07\\x07\\x07\\x07'\n"
     ]
    }
   ],
   "source": [
    "reciever_aes_cipher = Cipher(\n",
    "    algorithms.AES(bytes(aes_key, 'utf-8')),\n",
    "    modes.CBC(bytes(aes_initialization_vector, 'utf-8'))\n",
    ")\n",
    "\n",
    "aes_decryptor = reciever_aes_cipher.decryptor()\n",
    "\n",
    "aes_plaintext = aes_decryptor.update(aes_ciphertext) + aes_decryptor.finalize()\n",
    "\n",
    "print(f\"Decrypted AES plaintext: {aes_plaintext}\")"
   ]
  }
 ],
 "metadata": {
  "kernelspec": {
   "display_name": "base",
   "language": "python",
   "name": "python3"
  },
  "language_info": {
   "codemirror_mode": {
    "name": "ipython",
    "version": 3
   },
   "file_extension": ".py",
   "mimetype": "text/x-python",
   "name": "python",
   "nbconvert_exporter": "python",
   "pygments_lexer": "ipython3",
   "version": "3.9.7"
  }
 },
 "nbformat": 4,
 "nbformat_minor": 2
}
