{
 "cells": [
  {
   "cell_type": "markdown",
   "metadata": {},
   "source": [
    "### Combining ECC with DH (ECDH)"
   ]
  },
  {
   "cell_type": "code",
   "execution_count": 1,
   "metadata": {},
   "outputs": [],
   "source": [
    "from cryptography.hazmat.primitives.asymmetric import ec\n",
    "from cryptography.hazmat.primitives import hashes"
   ]
  },
  {
   "cell_type": "code",
   "execution_count": 3,
   "metadata": {},
   "outputs": [
    {
     "name": "stdout",
     "output_type": "stream",
     "text": [
      "keys are same\n"
     ]
    }
   ],
   "source": [
    "alice_private_key = ec.generate_private_key(ec.SECP384R1())\n",
    "bob_private_key = ec.generate_private_key(ec.SECP384R1())\n",
    "\n",
    "alice_public_key = alice_private_key.public_key()\n",
    "bob_public_key = bob_private_key.public_key()\n",
    "\n",
    "alice_shared_key = alice_private_key.exchange(ec.ECDH(), bob_public_key)\n",
    "bob_shared_key = bob_private_key.exchange(ec.ECDH(), alice_public_key)\n",
    "\n",
    "assert(alice_shared_key == bob_shared_key)\n",
    "print(\"keys are same\")"
   ]
  },
  {
   "cell_type": "markdown",
   "metadata": {},
   "source": [
    "### ECC with DSA"
   ]
  },
  {
   "cell_type": "code",
   "execution_count": 4,
   "metadata": {},
   "outputs": [
    {
     "name": "stdout",
     "output_type": "stream",
     "text": [
      "valid signature\n"
     ]
    }
   ],
   "source": [
    "private_key = ec.generate_private_key(ec.SECP384R1())\n",
    "message = b\"This message needs to be signed\"\n",
    "signature = private_key.sign(message, ec.ECDSA(hashes.SHA256()))\n",
    "\n",
    "public_key = private_key.public_key()\n",
    "\n",
    "try:\n",
    "    public_key.verify(signature, message, ec.ECDSA(hashes.SHA256()))\n",
    "    print(\"valid signature\")\n",
    "except:\n",
    "    print(\"invalid signature\")"
   ]
  }
 ],
 "metadata": {
  "kernelspec": {
   "display_name": "base",
   "language": "python",
   "name": "python3"
  },
  "language_info": {
   "codemirror_mode": {
    "name": "ipython",
    "version": 3
   },
   "file_extension": ".py",
   "mimetype": "text/x-python",
   "name": "python",
   "nbconvert_exporter": "python",
   "pygments_lexer": "ipython3",
   "version": "3.9.7"
  }
 },
 "nbformat": 4,
 "nbformat_minor": 2
}
