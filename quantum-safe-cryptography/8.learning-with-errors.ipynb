{
 "cells": [
  {
   "cell_type": "markdown",
   "metadata": {},
   "source": [
    "### Use LWE for encryption and decryption"
   ]
  },
  {
   "cell_type": "code",
   "execution_count": 1,
   "metadata": {},
   "outputs": [],
   "source": [
    "import numpy as np\n",
    "from matplotlib import pyplot as plt"
   ]
  },
  {
   "cell_type": "code",
   "execution_count": 2,
   "metadata": {},
   "outputs": [
    {
     "name": "stdout",
     "output_type": "stream",
     "text": [
      "n=8,q=127,N=42,sigma=1.0\n"
     ]
    }
   ],
   "source": [
    "n = 8 # security parameters / vector dimension\n",
    "q = 127 # modulus\n",
    "N=int(1.1*n*np.log(q)) # number of samples\n",
    "sigma = 1.0\n",
    "print(f\"n={n},q={q},N={N},sigma={sigma}\")"
   ]
  },
  {
   "cell_type": "markdown",
   "metadata": {},
   "source": [
    "Now, let us introduce errors using a gaussian distribution"
   ]
  },
  {
   "cell_type": "code",
   "execution_count": 9,
   "metadata": {},
   "outputs": [
    {
     "name": "stdout",
     "output_type": "stream",
     "text": [
      "chi =  996\n",
      "chi =  995\n",
      "chi =  0\n",
      "chi =  992\n",
      "chi =  999\n",
      "chi =  999\n",
      "chi =  1\n",
      "chi =  8\n",
      "chi =  997\n",
      "chi =  994\n"
     ]
    }
   ],
   "source": [
    "def chi(stdev, modulus):\n",
    "    return round((np.random.randn() * stdev**2)) % modulus\n",
    "\n",
    "sd = 2\n",
    "m = 1000\n",
    "for x in range(10):\n",
    "    print(\"chi = \", chi(sd, m))"
   ]
  },
  {
   "cell_type": "code",
   "execution_count": 10,
   "metadata": {},
   "outputs": [
    {
     "name": "stdout",
     "output_type": "stream",
     "text": [
      "alice's private key is [ 95 117  28 113  93 121  68  40]\n"
     ]
    }
   ],
   "source": [
    "alice_private_key = np.random.randint(0, high =q, size=n)\n",
    "print(f\"alice's private key is {alice_private_key}\")"
   ]
  },
  {
   "cell_type": "code",
   "execution_count": 11,
   "metadata": {},
   "outputs": [
    {
     "name": "stdout",
     "output_type": "stream",
     "text": [
      "alice public key is:  [(array([101,  98,  13,  62,   0,  29,  95, 114]), 34), (array([98, 65, 22, 27,  7, 29, 95, 95]), 79), (array([ 78,   0,  59,  33, 109, 113,  99,  32]), 38), (array([49, 58, 70, 59, 45, 43, 30, 27]), 64), (array([ 93,  74,   6, 125, 100,  44,  38,  70]), 104), (array([ 10,  20,  98,  32,   0, 123,  23, 110]), 16), (array([34, 52, 83, 79, 91, 88, 93, 39]), 61), (array([39, 67, 90, 31, 57, 75,  1, 59]), 82), (array([ 31,  53, 121,  30, 124,  41, 109,   7]), 104), (array([119,  31,  78,  26, 112,  25,  13, 101]), 66), (array([ 62,  83, 119,  81, 103,  75,  97,  24]), 68), (array([  7,  77,  80,  79,   1,  41,  27, 126]), 6), (array([ 80,  82,  55,  30,  74, 108, 123, 107]), 108), (array([86, 65, 50, 37, 26, 24, 67, 81]), 57), (array([ 94, 113,  29, 126,  28,  24,  90, 114]), 49), (array([ 79,  86,  70, 102,  99,  56,  43,  23]), 80), (array([116,  75,  39, 108,  53,  65,  69,  69]), 123), (array([  8, 100,  47,  92,  30,  72,  92,  62]), 87), (array([89, 48, 77, 54, 46, 84, 66, 62]), 51), (array([ 60, 120,  23, 111,  11,  27,  48,  17]), 13), (array([105,  80,  38,  46,  92,  78,  13,  54]), 27), (array([120,  21,  44,  78,  22,  36, 105,  25]), 91), (array([70,  6,  9, 95, 15, 70, 95, 50]), 89), (array([ 92,  52, 112, 104, 116,  23,  14,  49]), 94), (array([51, 86, 85, 13, 60, 18, 89, 89]), 60), (array([ 59,  24, 112,  62,  53,  91,  33, 110]), 117), (array([ 18,  97,  63,  32, 104,  93,  25,  24]), 114), (array([119,  71,  43,   2,  46,  76,  33,  27]), 121), (array([ 62,  16,  29,  24,   5, 121,  41,  67]), 109), (array([ 87,  42,  36, 120, 118,  51,  25,  70]), 117), (array([ 98, 118, 115,   0,  80,   7, 110,  62]), 6), (array([93, 89, 76, 70, 59, 90, 22, 32]), 53), (array([ 98, 123, 115, 116,  77, 113, 105,  39]), 96), (array([ 17,  69,  12,  92,  68,  22, 112,  94]), 13), (array([  8,  14, 118,  52,   9,  45,  42,  53]), 102), (array([28, 48, 81, 68, 30, 18, 44,  8]), 93), (array([ 14, 106, 102,  96,  37,  37,  67,  76]), 24), (array([ 88,  67, 121,   9,  78,   2,  47,  40]), 2), (array([111,  28,  13,  97,  45,  15, 115,  24]), 49), (array([ 47, 123,  50,  49,  13,  91,  76,  60]), 115), (array([64, 97, 95, 71, 97, 38, 61, 78]), 105), (array([ 21, 113, 120, 120, 104,  82,  80,  78]), 91)]\n"
     ]
    }
   ],
   "source": [
    "alice_public_key =[]\n",
    "for i in range(N):\n",
    "    a = np.random.randint(0, high=q, size= n)\n",
    "    epsilon = chi(sigma, q)\n",
    "    b = (np.dot(a, alice_private_key) + epsilon) % q\n",
    "    sample = (a,b)\n",
    "    alice_public_key.append(sample)\n",
    "\n",
    "print(\"alice public key is: \", alice_public_key)"
   ]
  },
  {
   "cell_type": "code",
   "execution_count": 12,
   "metadata": {},
   "outputs": [
    {
     "name": "stdout",
     "output_type": "stream",
     "text": [
      "bob's message bit = 1\n"
     ]
    }
   ],
   "source": [
    "bob_message_bit = 1\n",
    "print(f\"bob's message bit = {bob_message_bit}\")"
   ]
  },
  {
   "cell_type": "code",
   "execution_count": 13,
   "metadata": {},
   "outputs": [
    {
     "name": "stdout",
     "output_type": "stream",
     "text": [
      "[1 0 0 0 0 0 0 0 1 1 0 0 0 0 0 0 1 0 0 1 0 1 0 0 1 0 0 1 0 0 0 0 0 0 0 1 1\n",
      " 1 1 1 0 0]\n"
     ]
    }
   ],
   "source": [
    "r = np.random.randint(0, 2, N)\n",
    "print(r)"
   ]
  },
  {
   "cell_type": "code",
   "execution_count": 16,
   "metadata": {},
   "outputs": [
    {
     "name": "stdout",
     "output_type": "stream",
     "text": [
      "ciphertext is: ([116, 38, 51, 114, 123, 99, 21, 22], 69)\n"
     ]
    }
   ],
   "source": [
    "sum_ai=np.zeros(n, dtype=int)\n",
    "sum_bi=0\n",
    "\n",
    "for i in range(N):\n",
    "    sum_ai = sum_ai + r[i] * alice_public_key[i][0]\n",
    "    sum_bi += r[i] * alice_public_key[i][1]\n",
    "sum_ai = [x % q for x in sum_ai]\n",
    "\n",
    "ciphertext = (sum_ai, (bob_message_bit * int(np.floor(q/2)) + sum_bi) %q)\n",
    "print(f\"ciphertext is: {ciphertext}\")"
   ]
  },
  {
   "cell_type": "code",
   "execution_count": 17,
   "metadata": {},
   "outputs": [
    {
     "name": "stdout",
     "output_type": "stream",
     "text": [
      "original message = 1, decrypted message = 1\n"
     ]
    }
   ],
   "source": [
    "adots = np.dot(ciphertext[0],alice_private_key) % q\n",
    "b_adots = (ciphertext[1] - adots) % q\n",
    "\n",
    "decrypted_msg_bit = round((2*b_adots)/q) %2\n",
    "\n",
    "print(f\"original message = {bob_message_bit}, decrypted message = {decrypted_msg_bit}\")\n",
    "\n",
    "assert(bob_message_bit == decrypted_msg_bit)"
   ]
  },
  {
   "cell_type": "code",
   "execution_count": 18,
   "metadata": {},
   "outputs": [
    {
     "name": "stdout",
     "output_type": "stream",
     "text": [
      "Bob's message bits are : [1 1 0 0 0 0 1 0 1 1 1 0 1 1 0 1]\n",
      "Decrypted message bits = [1 1 0 0 0 0 1 0 1 1 1 0 1 1 0 1]\n"
     ]
    }
   ],
   "source": [
    "bob_message_bits = np.random.randint(0, 2, 16)\n",
    "print(f\"Bob's message bits are : {bob_message_bits}\")\n",
    "decrypted_bits = []\n",
    "\n",
    "for ib in range(len(bob_message_bits)):\n",
    "    bob_message_bit = bob_message_bits[ib]\n",
    "\n",
    "    r = np.random.randint(0, 2, N)\n",
    "    \n",
    "    sum_ai=np.zeros(n, dtype=int)\n",
    "    sum_bi=0\n",
    "    for i in range(N):\n",
    "        sum_ai = sum_ai + r[i] * alice_public_key[i][0]\n",
    "        sum_bi = sum_bi + r[i] * alice_public_key[i][1]\n",
    "    sum_ai = [ x % q for x in sum_ai ]\n",
    "\n",
    "    ciphertext = (sum_ai, (bob_message_bit*int(np.floor(q/2))+sum_bi)%q)\n",
    "\n",
    "    adots = np.dot(ciphertext[0], alice_private_key) % q\n",
    "    b_adots = (ciphertext[1] - adots) % q\n",
    "\n",
    "    decrypted_message_bit = round((2*b_adots)/q) % 2\n",
    "    assert decrypted_message_bit == bob_message_bit\n",
    "\n",
    "    decrypted_bits.append(decrypted_message_bit)\n",
    "    \n",
    "print(f\"Decrypted message bits = {np.array(decrypted_bits)}\")"
   ]
  }
 ],
 "metadata": {
  "kernelspec": {
   "display_name": "base",
   "language": "python",
   "name": "python3"
  },
  "language_info": {
   "codemirror_mode": {
    "name": "ipython",
    "version": 3
   },
   "file_extension": ".py",
   "mimetype": "text/x-python",
   "name": "python",
   "nbconvert_exporter": "python",
   "pygments_lexer": "ipython3",
   "version": "3.9.7"
  }
 },
 "nbformat": 4,
 "nbformat_minor": 2
}
