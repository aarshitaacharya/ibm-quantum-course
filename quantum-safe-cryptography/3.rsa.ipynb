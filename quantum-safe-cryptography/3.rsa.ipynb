{
 "cells": [
  {
   "cell_type": "markdown",
   "metadata": {},
   "source": [
    "### RSA Algorithm\n",
    "First we need to compute GCD to verify whether two integers are coprime or not"
   ]
  },
  {
   "cell_type": "code",
   "execution_count": 1,
   "metadata": {},
   "outputs": [
    {
     "name": "stdout",
     "output_type": "stream",
     "text": [
      "gcd(50,10) = 10\n",
      "gcd(99,1033) = 33\n",
      "gcd(59,9) = 1\n"
     ]
    }
   ],
   "source": [
    "def gcd(a,b):\n",
    "    if b==0:\n",
    "        return a\n",
    "    else:\n",
    "        return gcd(b, a%b)\n",
    "\n",
    "n1 = gcd(50,10)\n",
    "n2 = gcd(99,33)\n",
    "n3 = gcd(59,9)\n",
    "\n",
    "import math\n",
    "m1=math.gcd(50,10)\n",
    "m2=math.gcd(99,33)\n",
    "m3=math.gcd(59,9)\n",
    "\n",
    "assert(n1==m1)\n",
    "assert(n2==m2)\n",
    "assert(n3==m3)\n",
    "\n",
    "print(\"gcd(50,10) =\",m1)\n",
    "print(\"gcd(99,1033) =\",m2)\n",
    "print(\"gcd(59,9) =\",m3)"
   ]
  },
  {
   "cell_type": "markdown",
   "metadata": {},
   "source": [
    "Generate two prime numbers p and q (which are supposed to be kept secret)"
   ]
  },
  {
   "cell_type": "code",
   "execution_count": 2,
   "metadata": {},
   "outputs": [
    {
     "name": "stdout",
     "output_type": "stream",
     "text": [
      "Our secret prime numbers p and q are:  13 19\n"
     ]
    }
   ],
   "source": [
    "p = 13\n",
    "q = 19\n",
    "print(\"Our secret prime numbers p and q are: \",p ,q)"
   ]
  },
  {
   "cell_type": "code",
   "execution_count": 3,
   "metadata": {},
   "outputs": [
    {
     "name": "stdout",
     "output_type": "stream",
     "text": [
      "modulus n = p * q =  247\n"
     ]
    }
   ],
   "source": [
    "n = p * q\n",
    "print(\"modulus n = p * q = \", n)"
   ]
  },
  {
   "cell_type": "markdown",
   "metadata": {},
   "source": [
    "Now, compute the Euler totient function (phi), for computing the modular multiplicative inverse operation, and keep this also as a secret"
   ]
  },
  {
   "cell_type": "code",
   "execution_count": 4,
   "metadata": {},
   "outputs": [
    {
     "name": "stdout",
     "output_type": "stream",
     "text": [
      "The secret euler's function is:  216\n"
     ]
    }
   ],
   "source": [
    "phi = (p -1)* (q -1)\n",
    "print(\"The secret euler's function is: \", phi)"
   ]
  },
  {
   "cell_type": "markdown",
   "metadata": {},
   "source": [
    "Now, let us calculate the public and private keys"
   ]
  },
  {
   "cell_type": "code",
   "execution_count": 5,
   "metadata": {},
   "outputs": [
    {
     "name": "stdout",
     "output_type": "stream",
     "text": [
      "public key (e) =  5\n"
     ]
    }
   ],
   "source": [
    "e = 2\n",
    "while(e < phi):\n",
    "    if(math.gcd(e, phi) ==1):\n",
    "        break\n",
    "    else:\n",
    "        e+= 1\n",
    "print(\"public key (e) = \", e)"
   ]
  },
  {
   "cell_type": "code",
   "execution_count": 8,
   "metadata": {},
   "outputs": [
    {
     "name": "stdout",
     "output_type": "stream",
     "text": [
      "private key (d) is  173\n"
     ]
    }
   ],
   "source": [
    "d = 1\n",
    "while(True):\n",
    "    if((d * e) % phi == 1):\n",
    "        break\n",
    "    else:\n",
    "        d+=1\n",
    "print(\"private key (d) is \", d)"
   ]
  },
  {
   "cell_type": "code",
   "execution_count": 9,
   "metadata": {},
   "outputs": [
    {
     "name": "stdout",
     "output_type": "stream",
     "text": [
      "The public key is (5, 247) and the private key is (173, 247)\n"
     ]
    }
   ],
   "source": [
    "public = (e,n)\n",
    "private = (d,n)\n",
    "print(f\"The public key is {public} and the private key is {private}\")\n"
   ]
  },
  {
   "cell_type": "markdown",
   "metadata": {},
   "source": [
    "Encryption and Decryption takes place using modular eponentiation operation, and the public and private keys are complementary."
   ]
  },
  {
   "cell_type": "code",
   "execution_count": 10,
   "metadata": {},
   "outputs": [
    {
     "name": "stdout",
     "output_type": "stream",
     "text": [
      "original message was:  9\n",
      "encrypted message was:  16\n",
      "decrypted message was:  9\n"
     ]
    }
   ],
   "source": [
    "def encrypt(plaintext):\n",
    "    return (plaintext ** e) % n\n",
    "\n",
    "def decrypt(ciphertext):\n",
    "    return (ciphertext **d) % n\n",
    "\n",
    "msg = 9\n",
    "\n",
    "enc_msg = encrypt(msg)\n",
    "dec_msg = decrypt(enc_msg)\n",
    "\n",
    "print(\"original message was: \", msg)\n",
    "print(\"encrypted message was: \", enc_msg)\n",
    "print(\"decrypted message was: \", dec_msg)"
   ]
  },
  {
   "cell_type": "markdown",
   "metadata": {},
   "source": [
    "### Symmetric key exchange using RSA"
   ]
  },
  {
   "cell_type": "code",
   "execution_count": 11,
   "metadata": {},
   "outputs": [
    {
     "name": "stdout",
     "output_type": "stream",
     "text": [
      "Alice symmetric key: b'mdMyrkCulPJ71Jmq-lwMd82JKP2mQ1UVrhtADYRgKlg='\n"
     ]
    }
   ],
   "source": [
    "from cryptography.hazmat.primitives import serialization, hashes\n",
    "from cryptography.hazmat.primitives.asymmetric import rsa, padding\n",
    "from cryptography.fernet import Fernet\n",
    "\n",
    "symmetric_key = Fernet.generate_key()\n",
    "print(f\"Alice symmetric key: {symmetric_key}\")"
   ]
  },
  {
   "cell_type": "code",
   "execution_count": 15,
   "metadata": {},
   "outputs": [
    {
     "name": "stdout",
     "output_type": "stream",
     "text": [
      "Bob public key: <cryptography.hazmat.backends.openssl.rsa._RSAPublicKey object at 0x00000211CBBA0AC0>\n",
      "Public numbers in bob's public key = <RSAPublicNumbers(e=65537, n=24752914000791398790742875119439287064119032409006355820577039387378221719487755262029155239946930647854199640347262718320299662116773943278990069569510521122478084853830614731877506938431401360519735887285541829622225061202025623795077642727385206528375138168010083187523190716063036936962088359580634830663768483629666123066592833201793535807972105243753107614267243875418905213221130767428789300239301148052583551503043186541452280462034092311273474828598006951836919565066534999165316900960278014712031241794345307122842219902947673789483280284449556596559171385952763751879461880899192148160468791180853205557001)>\n"
     ]
    }
   ],
   "source": [
    "bob_private_key = rsa.generate_private_key(public_exponent=65537, key_size=2048)\n",
    "bob_public_key = bob_private_key.public_key()\n",
    "print(f\"Bob public key: {bob_public_key}\")\n",
    "print(f\"Public numbers in bob's public key = {bob_public_key.public_numbers()}\")"
   ]
  },
  {
   "cell_type": "markdown",
   "metadata": {},
   "source": [
    "Now Alice has Bob's public key, so she can encrypt her symmetric key using this, and produce ciphertext"
   ]
  },
  {
   "cell_type": "code",
   "execution_count": 16,
   "metadata": {},
   "outputs": [
    {
     "name": "stdout",
     "output_type": "stream",
     "text": [
      "ciphertext b';\\xed\\xdc\\xeb\\x91\\xa16\\xf0J0+\\x9d\\xfc\\xb0\\xf0\\xcbN\\xca\\x1b\\xe5v\\x8f\\x0c\\xbf\\x06Sd\\xc3y\\xea\\x8c\\xfe\\xb4H\\x15\\xdb\\x13\\xdc\\xa6\\xdb\\x12\\xed\\xf8\\n1\\xbd\\xb8\\xe9i;\\x980k\\xe63\\xed\\x97\\xd4\\x17\\xd4 w\\xbe\\x93Ze\\xd2l\\xb7aDaF\\xf5\\xa8\\xe2\\xf2G\\x00<^\\x96\\x15)\\x16\\xf1\\xc4\\xf1.\\xf0\\x03\"\\xbc:\\x8dp&\\x81\\x14_\\x1eW\\x7f|2\\xdb\\xa3\\xe6DT&\\xdf\\xe3\\xb4\\x86\\x12\\xfbt\\x91\\xe0\\xa4\\xb9F%\\xe9\\xdax\\xbcm\\x96\\xa2\\xf5\\xcd\\xd9\\xf5Z\\x983jR\\x1a 3\\x85\\xa9&p\\x8apr\\x84\\xc0\\xa4\\xfe\\xea\\xe8\\xac9\\x10\\xd1\\xff\\xae\\x0b|\\xc9@q\\xfe\\x998LK\\xc3\\xdf\\xc4\\xbd\\xd5\\x9f\\x82\\xe7\\xf4\\xc1\\x94\\xb4\\x93\\x982\\xdd\\'\\xb9\\x14,\\x8e@\\x94T\\xf9_\\x00\\xb7U\\x18?\\xccm\\xe6\\x93`b\\xb4`\\x19\\xde\"%\\x89\\x13I\\xb1\\x1db\\x86h\\xa39\\xc4\\xf0+2\\xe2\\xae \\xd1=x]\\xdd\\xec<\\xa3\\xd7\\xd5\\x05nf\\xda\\xcc\\xc2\\xdf\\x014\\xa7O\\xe03\\xd4'\n"
     ]
    }
   ],
   "source": [
    "ciphertext = bob_public_key.encrypt(\n",
    "    symmetric_key,\n",
    "    padding.OAEP(\n",
    "        mgf=padding.MGF1(algorithm=hashes.SHA256()),\n",
    "        algorithm=hashes.SHA256(),\n",
    "        label=None\n",
    "    )\n",
    ")\n",
    "\n",
    "print(\"ciphertext\", ciphertext)"
   ]
  },
  {
   "cell_type": "code",
   "execution_count": 20,
   "metadata": {},
   "outputs": [
    {
     "name": "stdout",
     "output_type": "stream",
     "text": [
      "decrypted key:  b'mdMyrkCulPJ71Jmq-lwMd82JKP2mQ1UVrhtADYRgKlg='\n"
     ]
    }
   ],
   "source": [
    "decrypted_symmetric_key = bob_private_key.decrypt(\n",
    "    ciphertext,\n",
    "    padding.OAEP(\n",
    "        mgf=padding.MGF1(algorithm=hashes.SHA256()),\n",
    "        algorithm=hashes.SHA256(),\n",
    "        label=None\n",
    "    )\n",
    ")\n",
    "\n",
    "print(\"decrypted key: \", decrypted_symmetric_key)\n",
    "assert(decrypted_symmetric_key == symmetric_key)"
   ]
  },
  {
   "cell_type": "markdown",
   "metadata": {},
   "source": [
    "### Key Encapsulation Mechanism (KEM) using RSA"
   ]
  },
  {
   "cell_type": "code",
   "execution_count": 21,
   "metadata": {},
   "outputs": [
    {
     "name": "stdout",
     "output_type": "stream",
     "text": [
      "Bob's private and public keys have been created\n"
     ]
    }
   ],
   "source": [
    "from cryptography.hazmat.primitives.asymmetric import rsa, padding\n",
    "from cryptography.hazmat.primitives.kdf.hkdf import HKDF\n",
    "from cryptography.hazmat.primitives import hashes, serialization\n",
    "from os import urandom\n",
    "\n",
    "private_key_bob = rsa.generate_private_key(public_exponent=65537, key_size=2048)\n",
    "public_key_bob = private_key_bob.public_key()\n",
    "\n",
    "print(\"Bob's private and public keys have been created\")"
   ]
  },
  {
   "cell_type": "code",
   "execution_count": 22,
   "metadata": {},
   "outputs": [
    {
     "name": "stdout",
     "output_type": "stream",
     "text": [
      "b\"\\x04i)V\\xd9\\xb6e\\xb8\\xa0\\xc6\\x99\\xd5E\\xe3\\xc5CL\\xc6x\\xe9\\x17\\xfe\\x0bc\\x11\\xc2g\\xfe\\xa3wdm\\x9dr\\xf2\\xb8\\x15\\xbc\\xaa!\\xe9\\xcf\\xba[\\x92\\xa6!>\\x85\\xde\\t\\x06NT\\xdc\\xe7I\\\\\\x9b/\\x9aQ\\xe4\\xaf\\xce\\xa3\\xfe\\xeeA;<\\xad\\xf3\\xb1U\\xad\\xf2\\x84\\xac\\x80\\xd8)\\xa7\\x1c\\xda\\xd4K\\xf5#R'\\xfaKw\\x16\\x1e\\x8f\\xb4\\x1ch\\xd6EA\\xc6\\xa3\\x06\\x927\\xe4\\xd8\\xde[\\x04xW\\xc8\\xfbC\\xfaw'\\xec!\\xff\\xabL\\xa8K\\ru\\x01\\x8c\\x8c%\\xfb\\xcf\\xcf\\xd7\\xe0\\xf7D\\xc3\\xe0\\xdb\\xe8?\\xe4.\\xea\\xc1\\xf2\\xc8,fmRr\\xef\\x9e\\x1d\"\n",
      "alice's secret created\n"
     ]
    }
   ],
   "source": [
    "alice_long_secret = urandom(160)\n",
    "print(alice_long_secret)\n",
    "print(\"alice's secret created\")"
   ]
  },
  {
   "cell_type": "code",
   "execution_count": 23,
   "metadata": {},
   "outputs": [
    {
     "name": "stdout",
     "output_type": "stream",
     "text": [
      "alice's secret encrypted\n"
     ]
    }
   ],
   "source": [
    "alice_encrypted_secret = public_key_bob.encrypt(\n",
    "    alice_long_secret,\n",
    "    padding.OAEP(\n",
    "        mgf=padding.MGF1(algorithm=hashes.SHA256()),\n",
    "        algorithm=hashes.SHA256(),\n",
    "        label=None\n",
    "    )\n",
    ")\n",
    "\n",
    "print(\"alice's secret encrypted\")"
   ]
  },
  {
   "cell_type": "code",
   "execution_count": 24,
   "metadata": {},
   "outputs": [
    {
     "name": "stdout",
     "output_type": "stream",
     "text": [
      "secrets match yayy\n"
     ]
    }
   ],
   "source": [
    "bob_decryted_secret = private_key_bob.decrypt(\n",
    "    alice_encrypted_secret,\n",
    "    padding.OAEP(\n",
    "        mgf=padding.MGF1(algorithm=hashes.SHA256()),\n",
    "        algorithm=hashes.SHA256(),\n",
    "        label=None\n",
    "    )\n",
    ")\n",
    "\n",
    "assert(alice_long_secret == bob_decryted_secret)\n",
    "print(\"secrets match yayy\")"
   ]
  },
  {
   "cell_type": "code",
   "execution_count": 26,
   "metadata": {},
   "outputs": [
    {
     "name": "stdout",
     "output_type": "stream",
     "text": [
      "a symmetric key was derived successfully\n"
     ]
    }
   ],
   "source": [
    "def kdf(secret, salt):\n",
    "    hkdf = HKDF(\n",
    "        algorithm=hashes.SHA256(),\n",
    "        length=32,\n",
    "        salt=salt,\n",
    "        info=None,\n",
    "        backend=None\n",
    "    )\n",
    "\n",
    "    return hkdf.derive(secret)\n",
    "\n",
    "common_salt = urandom(16)\n",
    "symmetric_key_alice = kdf(alice_long_secret, common_salt)\n",
    "symmetric_key_bob = kdf(bob_decryted_secret, common_salt)\n",
    "\n",
    "assert(symmetric_key_alice == symmetric_key_bob)\n",
    "print(\"a symmetric key was derived successfully\")\n"
   ]
  },
  {
   "cell_type": "markdown",
   "metadata": {},
   "source": [
    "### Digital Signatures with RSA"
   ]
  },
  {
   "cell_type": "code",
   "execution_count": 27,
   "metadata": {},
   "outputs": [
    {
     "name": "stdout",
     "output_type": "stream",
     "text": [
      "Private and Public keys generated for Bob and Alice.\n"
     ]
    }
   ],
   "source": [
    "from cryptography.hazmat.primitives import hashes, serialization\n",
    "from cryptography.hazmat.primitives.asymmetric import padding, rsa\n",
    "from cryptography.hazmat.primitives.asymmetric.utils import Prehashed\n",
    "\n",
    "bob_private_key = rsa.generate_private_key(public_exponent=65537, key_size=2048)\n",
    "bob_public_key = bob_private_key.public_key()\n",
    "\n",
    "alice_private_key = rsa.generate_private_key(public_exponent=65537, key_size=2048)\n",
    "alice_public_key = alice_private_key.public_key()\n",
    "\n",
    "print(\"Private and Public keys generated for Bob and Alice.\")"
   ]
  },
  {
   "cell_type": "code",
   "execution_count": 28,
   "metadata": {},
   "outputs": [
    {
     "name": "stdout",
     "output_type": "stream",
     "text": [
      "ciphertext of symmetric key:  b\"\\x8e\\x99\\xa95\\x00T\\xf9\\xf7.\\xa6\\xa0\\x03\\xc6\\x8e\\xb3T\\x8fgh\\xe3\\xbao\\x92\\x0cP\\x87UHwp\\x91\\xd2\\x17as\\x82\\xd8!\\xd0\\x98>L\\x1c\\x14\\xf0-\\x8a2g.\\x158\\x9a\\xea\\xb1{\\x01\\xd1\\xd0\\x8d\\x1f\\xc3is\\xc6\\xba\\x84\\xa8\\xe8\\xf3\\x125\\x11I\\xfbZ{\\x86\\x10\\x84\\xdc~4W\\xea\\\\\\xe7\\n\\xc0\\x1a-\\xb8\\x84\\xe9\\xeb\\xefn\\xe8M]\\xea\\xb3\\xad\\xbe\\xb9\\xf5\\xe9b\\xc4\\x17\\x96{e<\\x15\\xc0P?\\xf9D\\xf1\\x10\\xd5\\xcb'(ZCd\\x9e\\xb5\\x89\\xa0\\xfe<Q\\x1d\\xe8[\\x93\\x95D9\\xb7\\x028\\x8b\\xc0tO\\x8d\\xdd\\xbd\\xbe--#\\x91\\x00\\xbe\\x98\\x0c\\x9f\\x1a\\xc8\\xf4\\xe29e\\xbf_\\x9e\\xe1\\xca\\x82\\x8a\\x04|\\x99\\xb3\\x89v\\xa9\\xe4\\x9d\\x87\\x97\\xc9<\\x15\\xe6\\x8dW\\xf8\\xb7\\xfaP\\xb0\\x87\\x8f]\\x1a\\xea)\\x01y\\xee9\\x1d\\xb3Y3\\r\\x9f\\xa4p\\x03\\x1c\\x17\\x9d\\xc6)\\x1dBq\\x7f\\xea\\xad\\xb4D\\xe8^\\xf2\\xc5\\xfc\\x16\\xa2`Db\\x88\\x87\\xba\\x80\\xed\\x82@\\xb7\\x88\\xb4\\x89P\\x8d\\xed\\xd7\\xac\"\n"
     ]
    }
   ],
   "source": [
    "ciphertext = bob_public_key.encrypt(\n",
    "    symmetric_key,\n",
    "    padding.OAEP(\n",
    "        mgf=padding.MGF1(algorithm=hashes.SHA256()),\n",
    "        algorithm=hashes.SHA256(),\n",
    "        label=None\n",
    "    )\n",
    ")\n",
    "\n",
    "print(\"ciphertext of symmetric key: \",ciphertext)"
   ]
  },
  {
   "cell_type": "markdown",
   "metadata": {},
   "source": [
    "Here we attach a digital signature, so that alice can prove that she was the sender of the message. We do this by creating a hash of the ciphertext and encrypt it using alice's private key which acts like a signature"
   ]
  },
  {
   "cell_type": "code",
   "execution_count": 29,
   "metadata": {},
   "outputs": [
    {
     "name": "stdout",
     "output_type": "stream",
     "text": [
      "signature:  b\"J#\\x1a]\\x9d6Cb68c\\xed\\x12\\xf7\\xbd\\x1c%\\xb2\\xdeW\\x7fWG|\\xa6;v\\x0ejP\\xfa7*\\xfd\\x9c\\xd6#V\\xa2\\x9fz\\xe3\\x95\\x9b\\xec\\xf1\\x98\\xee\\xde\\xe9\\xca;5z\\x16E\\xad8\\x80\\x83\\x80\\x19\\x12\\xf2\\xf3\\x9a\\x13\\x87 U'\\x88\\xfcOO\\xa7\\xa1\\xde@\\xa7\\xa9\\x96\\xd5\\xad8\\x10\\xc2k=\\x11\\xach\\x15u\\x1d\\x8ch\\x16\\x03njx\\x045\\xc9*\\x1bU\\xd3\\xbd{\\xffB\\xab\\xa2t\\x84\\xfc\\x93\\xff\\xad@~\\x9cfV@\\xaf\\xf1\\xb5n\\xda<\\xa4\\xde\\x1a\\xb8J\\xd6\\x11\\xba6\\xffu\\xca\\x19\\xe5\\xa6\\n\\x9e\\xd0\\xbc\\xa3\\xa7rnC\\xa4\\x8aD\\xe0]hr\\xa6\\xbd6;\\x15\\r\\xac>\\xb4\\xd4\\xa9\\xf8\\x05\\x00\\xc6\\xcb\\xc2C}\\xc2\\xaf\\x14\\x06\\xbf\\x943\\x07\\xe5\\xa2\\x9bVl\\x92MF\\xbd\\xdaGDs\\xf6_\\xa6\\t]H\\x94;V~\\xfa\\xdb\\xf0\\x81\\xc1\\x1a\\x15_?\\x9c\\xa2\\xab\\xc3W\\x8a\\x11\\x17\\xc0T\\xf1T\\x8bS\\xd4\\x80\\xb5\\xb9\\x01\\xea\\x86\\xf8\\x80\\xc0\\x0f\\xc0\\xf0\\xb2O&\\xab4\\x81\"\n"
     ]
    }
   ],
   "source": [
    "digest= hashes.Hash(hashes.SHA256())\n",
    "digest.update(ciphertext)\n",
    "hash_to_sign = digest.finalize()\n",
    "\n",
    "signature = alice_private_key.sign(\n",
    "    hash_to_sign,\n",
    "    padding.PSS(\n",
    "        mgf=padding.MGF1(hashes.SHA256()),\n",
    "        salt_length=padding.PSS.MAX_LENGTH\n",
    "    ),\n",
    "    Prehashed(hashes.SHA256())\n",
    ")\n",
    "\n",
    "print(\"signature: \", signature)"
   ]
  },
  {
   "cell_type": "code",
   "execution_count": 30,
   "metadata": {},
   "outputs": [
    {
     "name": "stdout",
     "output_type": "stream",
     "text": [
      "sent ciphertext and signature\n"
     ]
    }
   ],
   "source": [
    "recieved_ciphertext = ciphertext\n",
    "recieved_signature = signature\n",
    "\n",
    "print(\"sent ciphertext and signature\")"
   ]
  },
  {
   "cell_type": "code",
   "execution_count": 31,
   "metadata": {},
   "outputs": [
    {
     "name": "stdout",
     "output_type": "stream",
     "text": [
      "hash to verify: b'\\x80 \\xf2{\\x81%\\x84\\x8c\\xb6\\x1a\\x9ak\\xd3l\\xcb\\x85P\\x0f\\x85\\xea\\xc1\\xba\\xa7,\\xb4\\\\!<{\\xa4.t'\n"
     ]
    }
   ],
   "source": [
    "digest = hashes.Hash(hashes.SHA256())\n",
    "digest.update(recieved_ciphertext)\n",
    "hash_to_verify = digest.finalize()\n",
    "\n",
    "print(\"hash to verify:\", hash_to_verify)"
   ]
  },
  {
   "cell_type": "code",
   "execution_count": 32,
   "metadata": {},
   "outputs": [
    {
     "name": "stdout",
     "output_type": "stream",
     "text": [
      "valid signature\n"
     ]
    }
   ],
   "source": [
    "try:\n",
    "    alice_public_key.verify(\n",
    "        recieved_signature,\n",
    "        hash_to_verify,\n",
    "        padding.PSS(\n",
    "            mgf=padding.MGF1(hashes.SHA256()),\n",
    "            salt_length=padding.PSS.MAX_LENGTH\n",
    "        ),\n",
    "        Prehashed(hashes.SHA256())\n",
    "    )\n",
    "    print(\"valid signature\")\n",
    "\n",
    "except:\n",
    "    print(\"invalid signature\")"
   ]
  },
  {
   "cell_type": "code",
   "execution_count": 33,
   "metadata": {},
   "outputs": [
    {
     "name": "stdout",
     "output_type": "stream",
     "text": [
      "decrypted message:  mdMyrkCulPJ71Jmq-lwMd82JKP2mQ1UVrhtADYRgKlg=\n"
     ]
    }
   ],
   "source": [
    "decrypted_message = bob_private_key.decrypt(\n",
    "     recieved_ciphertext,\n",
    "    padding.OAEP(\n",
    "        mgf=padding.MGF1(algorithm=hashes.SHA256()),\n",
    "        algorithm=hashes.SHA256(),\n",
    "        label=None\n",
    "    )\n",
    ")\n",
    "\n",
    "print(\"decrypted message: \", decrypted_message.decode())\n",
    "\n"
   ]
  },
  {
   "cell_type": "markdown",
   "metadata": {},
   "source": [
    "### Breaking RSA encryption\n",
    "here we will have the public key, and will recover the private key from it"
   ]
  },
  {
   "cell_type": "code",
   "execution_count": 36,
   "metadata": {},
   "outputs": [
    {
     "name": "stdout",
     "output_type": "stream",
     "text": [
      "247 and 6 are coprime\n"
     ]
    }
   ],
   "source": [
    "n = 247\n",
    "e = 5\n",
    "\n",
    "a = 6\n",
    "assert(gcd(a, n) == 1)\n",
    "print(f\"{n} and {a} are coprime\")"
   ]
  },
  {
   "cell_type": "code",
   "execution_count": 37,
   "metadata": {},
   "outputs": [
    {
     "name": "stdout",
     "output_type": "stream",
     "text": [
      "period r is 36\n",
      "checked 6^36 mod 247 = 1\n"
     ]
    }
   ],
   "source": [
    "r = 0\n",
    "rem = 100\n",
    "while(rem != 1):\n",
    "    r+=1\n",
    "    rem = (a**r) % n\n",
    "\n",
    "print(f\"period r is {r}\")\n",
    "assert(a**r % n == 1)\n",
    "print(f\"checked {a}^{r} mod {n} = 1\")"
   ]
  },
  {
   "cell_type": "code",
   "execution_count": 38,
   "metadata": {},
   "outputs": [
    {
     "name": "stdout",
     "output_type": "stream",
     "text": [
      "101559956668415\n",
      "101559956668417\n"
     ]
    }
   ],
   "source": [
    "f1 = int(a**(r/2) - 1)\n",
    "f2 = int(a**(r/2) + 1)\n",
    "\n",
    "print(f1)\n",
    "print(f2)"
   ]
  },
  {
   "cell_type": "code",
   "execution_count": 40,
   "metadata": {},
   "outputs": [
    {
     "name": "stdout",
     "output_type": "stream",
     "text": [
      "one possible prime factor is: 19\n",
      "one possible prime factor is: 13\n"
     ]
    }
   ],
   "source": [
    "q_found = gcd(f1, n)\n",
    "print(f\"one possible prime factor is: {q_found}\")\n",
    "\n",
    "p_found = gcd(f2, n)\n",
    "print(f\"one possible prime factor is: {p_found}\")\n",
    "\n",
    "assert(n == p_found * q_found)"
   ]
  },
  {
   "cell_type": "code",
   "execution_count": 42,
   "metadata": {},
   "outputs": [
    {
     "name": "stdout",
     "output_type": "stream",
     "text": [
      "phi found is: 216\n",
      "private key found as 173\n"
     ]
    }
   ],
   "source": [
    "phi_found = (p_found - 1) * (q_found - 1)\n",
    "print(f\"phi found is: {phi_found}\")\n",
    "\n",
    "d_found = 1\n",
    "while(True):\n",
    "    if((d_found * e) % phi_found == 1):\n",
    "        break\n",
    "    else:\n",
    "        d_found+=1\n",
    "print(\"private key found as\", d_found)"
   ]
  }
 ],
 "metadata": {
  "kernelspec": {
   "display_name": "base",
   "language": "python",
   "name": "python3"
  },
  "language_info": {
   "codemirror_mode": {
    "name": "ipython",
    "version": 3
   },
   "file_extension": ".py",
   "mimetype": "text/x-python",
   "name": "python",
   "nbconvert_exporter": "python",
   "pygments_lexer": "ipython3",
   "version": "3.9.7"
  }
 },
 "nbformat": 4,
 "nbformat_minor": 2
}
