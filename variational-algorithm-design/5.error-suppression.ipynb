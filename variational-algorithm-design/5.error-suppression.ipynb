{
 "cells": [
  {
   "cell_type": "markdown",
   "metadata": {},
   "source": [
    "### Error Suppression\n",
    "We can use \"optimization_level\" to suppress errors in primitives. Let us observe different optimization levels and their behaviour."
   ]
  },
  {
   "cell_type": "code",
   "execution_count": 3,
   "metadata": {},
   "outputs": [
    {
     "data": {
      "image/png": "[encoded data removed]",
      "text/plain": [
       "<Figure size 327.252x144.48 with 1 Axes>"
      ]
     },
     "execution_count": 3,
     "metadata": {},
     "output_type": "execute_result"
    }
   ],
   "source": [
    "from qiskit.circuit import Parameter, QuantumCircuit\n",
    "from qiskit.quantum_info import SparsePauliOp\n",
    "\n",
    "theta = Parameter(\"theta\")\n",
    "qc = QuantumCircuit(2)\n",
    "qc.x(1)\n",
    "qc.h(0)\n",
    "qc.cp(theta,0,1)\n",
    "qc.h(0)\n",
    "\n",
    "observables = SparsePauliOp.from_list([(\"ZZ\", 1)])\n",
    "qc.draw(\"mpl\")"
   ]
  },
  {
   "cell_type": "code",
   "execution_count": 4,
   "metadata": {},
   "outputs": [
    {
     "name": "stdout",
     "output_type": "stream",
     "text": [
      "[[0.0], [0.1282282715750936], [0.2564565431501872], [0.38468481472528077], [0.5129130863003744], [0.6411413578754679], [0.7693696294505615], [0.8975979010256552], [1.0258261726007487], [1.1540544441758422], [1.2822827157509358], [1.4105109873260295], [1.538739258901123], [1.6669675304762166], [1.7951958020513104], [1.9234240736264039], [2.0516523452014974], [2.179880616776591], [2.3081088883516845], [2.436337159926778], [2.5645654315018716], [2.6927937030769655], [2.821021974652059], [2.9492502462271526], [3.077478517802246], [3.2057067893773397], [3.333935060952433], [3.4621633325275267], [3.5903916041026207], [3.7186198756777142], [3.8468481472528078], [3.9750764188279013], [4.103304690402995], [4.231532961978089], [4.359761233553182], [4.487989505128276], [4.616217776703369], [4.744446048278463], [4.872674319853556], [5.00090259142865], [5.129130863003743], [5.257359134578837], [5.385587406153931], [5.513815677729024], [5.642043949304118], [5.770272220879211], [5.898500492454305], [6.026728764029398], [6.154957035604492], [6.283185307179586]]\n"
     ]
    }
   ],
   "source": [
    "import numpy as np\n",
    "phases = np.linspace(0, 2*np.pi, 50)\n",
    "individual_phases = [[phase] for phase in phases]\n",
    "print(individual_phases)"
   ]
  },
  {
   "cell_type": "code",
   "execution_count": 5,
   "metadata": {},
   "outputs": [],
   "source": [
    "from qiskit_ibm_runtime import QiskitRuntimeService\n",
    "from qiskit_aer import AerSimulator\n",
    "\n",
    "service = QiskitRuntimeService(channel=\"ibm_quantum\")\n",
    "backend = service.least_busy(operational = True,simulator = False)\n",
    "backend_sim = AerSimulator.from_backend(backend)"
   ]
  },
  {
   "cell_type": "code",
   "execution_count": 6,
   "metadata": {},
   "outputs": [],
   "source": [
    "from qiskit_ibm_runtime import EstimatorV2 as Estimator\n",
    "estimator = Estimator(backend_sim)\n",
    "\n",
    "circuit = qc\n",
    "\n",
    "# No optimization\n",
    "from qiskit.transpiler.preset_passmanagers import generate_preset_pass_manager\n",
    "\n",
    "pm = generate_preset_pass_manager(backend=backend_sim, optimization_level=0)\n",
    "isa_circuit = pm.run(circuit)\n",
    "isa_observable = observables.apply_layout(layout=isa_circuit.layout)\n",
    "\n",
    "noisy_exp_values = []\n",
    "pub = (isa_circuit, isa_observable, [individual_phases])\n",
    "cost = estimator.run([pub]).result()[0].data.evs\n",
    "noisy_exp_values = cost[0]"
   ]
  },
  {
   "cell_type": "code",
   "execution_count": 7,
   "metadata": {},
   "outputs": [],
   "source": [
    "# Optimization level 3\n",
    "pm = generate_preset_pass_manager(backend=backend_sim, optimization_level=3)\n",
    "isa_circuit = pm.run(circuit)\n",
    "isa_observable = observables.apply_layout(layout=isa_circuit.layout)\n",
    "\n",
    "noisy_exp_values_with_opt = []\n",
    "pub = (isa_circuit, isa_observable, [individual_phases])\n",
    "cost = estimator.run([pub]).result()[0].data.evs\n",
    "noisy_exp_values_with_opt = cost[0]"
   ]
  },
  {
   "cell_type": "code",
   "execution_count": 8,
   "metadata": {},
   "outputs": [
    {
     "data": {
      "image/png": "[encoded data removed]",
      "text/plain": [
       "<Figure size 432x288 with 1 Axes>"
      ]
     },
     "metadata": {
      "needs_background": "light"
     },
     "output_type": "display_data"
    }
   ],
   "source": [
    "import matplotlib.pyplot as plt\n",
    "\n",
    "plt.plot(phases, noisy_exp_values, \"o\", label = \"opt-0\")\n",
    "\n",
    "plt.plot(phases, noisy_exp_values_with_opt, \"o\", label = \"opt-3\")\n",
    "\n",
    "plt.plot(phases, 2 * np.sin(phases/2) **2 - 1, \"o\", label = \"ideal\")\n",
    "plt.ylabel(\"Expectation\")\n",
    "plt.legend()\n",
    "plt.show()"
   ]
  },
  {
   "cell_type": "markdown",
   "metadata": {},
   "source": [
    "### Error Mitigation\n",
    "We reduce circuit errors by modelling that device noise at the time of execution"
   ]
  },
  {
   "cell_type": "markdown",
   "metadata": {},
   "source": [
    "#### Twirled readout error extinction (T-REx)\n",
    "\n",
    "Resilience level = 1"
   ]
  },
  {
   "cell_type": "code",
   "execution_count": 10,
   "metadata": {},
   "outputs": [],
   "source": [
    "service = QiskitRuntimeService(channel=\"ibm_quantum\")\n",
    "backend = service.least_busy(operational = True, simulator = False)"
   ]
  },
  {
   "cell_type": "code",
   "execution_count": 11,
   "metadata": {},
   "outputs": [],
   "source": [
    "exp_values_with_em0_es = []\n",
    "exp_values_with_em1_es = []\n",
    "exp_values_with_em2_es = []\n",
    "\n",
    "pm = generate_preset_pass_manager(backend=backend, optimization_level=2)\n",
    "isa_circuit = pm.run(circuit)\n",
    "isa_observable = observables.apply_layout(layout=isa_circuit.layout)"
   ]
  },
  {
   "cell_type": "code",
   "execution_count": 20,
   "metadata": {},
   "outputs": [
    {
     "name": "stderr",
     "output_type": "stream",
     "text": [
      "C:\\Users\\admin\\AppData\\Local\\Temp/ipykernel_11040/3506639694.py:7: DeprecationWarning: Passing a backend as the mode currently runs the job in job mode even if inside of a session/batch context manager. As of qiskit-ibm-runtime version 0.26.0, this behavior is deprecated and in a future release no sooner than than 3 months after the release date, the session/batch will take precendence and the job will not run in job mode. To ensure that jobs are run in session/batch mode, pass in the session/batch or leave the mode parameter emtpy.\n",
      "  estimator = Estimator(mode=backend)\n"
     ]
    }
   ],
   "source": [
    "# No error mitigation\n",
    "\n",
    "from qiskit_ibm_runtime import Session, Options\n",
    "\n",
    "with Session(backend=backend) as session:\n",
    "    session_options = Options()\n",
    "    estimator = Estimator(mode=backend)\n",
    "    estimator.options.resilience_level = 0\n",
    "    estimator.options.default_shots = 10_000\n",
    "\n",
    "    pub = (isa_circuit, isa_observable, [individual_phases])\n",
    "    cost = estimator.run([pub]).result()[0].data.evs\n",
    "\n",
    "session.close()\n",
    "exp_values_with_em0_es = cost[0]\n"
   ]
  },
  {
   "cell_type": "code",
   "execution_count": 21,
   "metadata": {},
   "outputs": [
    {
     "name": "stderr",
     "output_type": "stream",
     "text": [
      "C:\\Users\\admin\\AppData\\Local\\Temp/ipykernel_11040/2122818900.py:5: DeprecationWarning: Passing a backend as the mode currently runs the job in job mode even if inside of a session/batch context manager. As of qiskit-ibm-runtime version 0.26.0, this behavior is deprecated and in a future release no sooner than than 3 months after the release date, the session/batch will take precendence and the job will not run in job mode. To ensure that jobs are run in session/batch mode, pass in the session/batch or leave the mode parameter emtpy.\n",
      "  estimator = Estimator(mode=backend)\n"
     ]
    }
   ],
   "source": [
    "# resillience 1\n",
    "\n",
    "with Session(backend=backend) as session:\n",
    "    session_options = Options()\n",
    "    estimator = Estimator(mode=backend)\n",
    "    estimator.options.resilience_level = 1\n",
    "    estimator.options.default_shots = 10_000\n",
    "\n",
    "    pub = (isa_circuit, isa_observable, [individual_phases])\n",
    "    cost = estimator.run([pub]).result()[0].data.evs\n",
    "\n",
    "session.close()\n",
    "exp_values_with_em1_es = cost[0]"
   ]
  },
  {
   "cell_type": "code",
   "execution_count": 22,
   "metadata": {},
   "outputs": [
    {
     "name": "stderr",
     "output_type": "stream",
     "text": [
      "C:\\Users\\admin\\AppData\\Local\\Temp/ipykernel_11040/4268884144.py:5: DeprecationWarning: Passing a backend as the mode currently runs the job in job mode even if inside of a session/batch context manager. As of qiskit-ibm-runtime version 0.26.0, this behavior is deprecated and in a future release no sooner than than 3 months after the release date, the session/batch will take precendence and the job will not run in job mode. To ensure that jobs are run in session/batch mode, pass in the session/batch or leave the mode parameter emtpy.\n",
      "  estimator = Estimator(mode=backend)\n"
     ]
    }
   ],
   "source": [
    "# resillience = 2\n",
    "\n",
    "with Session(backend=backend) as session:\n",
    "    session_options = Options()\n",
    "    estimator = Estimator(mode=backend)\n",
    "    estimator.options.resilience_level = 0\n",
    "    estimator.options.default_shots = 10_000\n",
    "\n",
    "    pub = (isa_circuit, isa_observable, [individual_phases])\n",
    "    cost = estimator.run([pub]).result()[0].data.evs\n",
    "\n",
    "session.close()\n",
    "exp_values_with_em2_es = cost[0]\n"
   ]
  },
  {
   "cell_type": "code",
   "execution_count": 23,
   "metadata": {},
   "outputs": [
    {
     "data": {
      "image/png": "[encoded data removed]",
      "text/plain": [
       "<Figure size 432x288 with 1 Axes>"
      ]
     },
     "metadata": {
      "needs_background": "light"
     },
     "output_type": "display_data"
    }
   ],
   "source": [
    "import matplotlib.pyplot as plt\n",
    "\n",
    "plt.plot(phases, exp_values_with_em0_es, \"o\", label=\"unmitigated\")\n",
    "plt.plot(phases, exp_values_with_em1_es, \"o\", label=\"resil = 1\")\n",
    "plt.plot(phases, exp_values_with_em2_es, \"o\", label=\"resil = 2\")\n",
    "plt.plot(phases, 2 * np.sin(phases / 2) ** 2 - 1, label=\"ideal\")\n",
    "plt.ylabel(\"Expectation\")\n",
    "plt.legend()\n",
    "plt.show()"
   ]
  }
 ],
 "metadata": {
  "kernelspec": {
   "display_name": "base",
   "language": "python",
   "name": "python3"
  },
  "language_info": {
   "codemirror_mode": {
    "name": "ipython",
    "version": 3
   },
   "file_extension": ".py",
   "mimetype": "text/x-python",
   "name": "python",
   "nbconvert_exporter": "python",
   "pygments_lexer": "ipython3",
   "version": "3.9.7"
  }
 },
 "nbformat": 4,
 "nbformat_minor": 2
}
