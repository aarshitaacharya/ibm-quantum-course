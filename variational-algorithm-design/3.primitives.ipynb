{
 "cells": [
  {
   "cell_type": "markdown",
   "metadata": {},
   "source": [
    "### Qiskit Primitives\n",
    "In order to measure a quantum system, qiskit has 2 primitives:\n",
    "1. Sampler: Given a quantum state $\\ket{\\psi}$, the sampler obtains the probability of each possible computational basis state\n",
    "\n",
    "2. Estimator: Given a quantum observable, and a state, estimator computes the expected value of the observable."
   ]
  },
  {
   "cell_type": "code",
   "execution_count": 1,
   "metadata": {},
   "outputs": [
    {
     "data": {
      "image/png": "[encoded data removed]",
      "text/plain": [
       "<Figure size 133.526x84.28 with 1 Axes>"
      ]
     },
     "execution_count": 1,
     "metadata": {},
     "output_type": "execute_result"
    }
   ],
   "source": [
    "from qiskit import QuantumCircuit\n",
    "from qiskit.quantum_info import SparsePauliOp\n",
    "\n",
    "original_circuit = QuantumCircuit(1)\n",
    "original_circuit.h(0)\n",
    "\n",
    "H = SparsePauliOp([\"X\", \"Z\"], [2, -1])\n",
    "\n",
    "aux_circuits = []\n",
    "for pauli in H.paulis:\n",
    "    aux_circ = original_circuit.copy()\n",
    "    aux_circ.barrier()\n",
    "\n",
    "    if str(pauli) == \"X\":\n",
    "        aux_circ.h(0)\n",
    "    elif str(pauli) == \"Y\":\n",
    "        aux_circ.sdg(0)\n",
    "        aux_circ.h(0)\n",
    "    else:\n",
    "        aux_circ.id(0)\n",
    "    aux_circ.measure_all()\n",
    "    aux_circuits.append(aux_circ)\n",
    "\n",
    "original_circuit.draw('mpl')"
   ]
  },
  {
   "cell_type": "code",
   "execution_count": 2,
   "metadata": {},
   "outputs": [
    {
     "data": {
      "image/png": "[encoded data removed]",
      "text/plain": [
       "<Figure size 417.879x144.48 with 1 Axes>"
      ]
     },
     "execution_count": 2,
     "metadata": {},
     "output_type": "execute_result"
    }
   ],
   "source": [
    "aux_circuits[0].draw('mpl')"
   ]
  },
  {
   "cell_type": "code",
   "execution_count": 3,
   "metadata": {},
   "outputs": [
    {
     "data": {
      "image/png": "[encoded data removed]",
      "text/plain": [
       "<Figure size 417.879x144.48 with 1 Axes>"
      ]
     },
     "execution_count": 3,
     "metadata": {},
     "output_type": "execute_result"
    }
   ],
   "source": [
    "aux_circuits[1].draw('mpl')"
   ]
  },
  {
   "cell_type": "code",
   "execution_count": 5,
   "metadata": {},
   "outputs": [],
   "source": [
    "from qiskit.primitives import StatevectorSampler, StatevectorEstimator\n",
    "from qiskit.result import QuasiDistribution\n",
    "from qiskit.circuit.library import IGate, XGate, YGate, ZGate\n",
    "import numpy as np\n",
    "\n",
    "shots = 1000\n",
    "sampler = StatevectorSampler()\n",
    "job = sampler.run(aux_circuits, shots = shots)\n",
    "data_pub = job.result()[1].data\n",
    "bitstrings = data_pub.meas.get_bitstrings()\n",
    "counts = data_pub.meas.get_counts()\n",
    "quasi_dist = QuasiDistribution({outcome: freq / shots for outcome, freq in counts.items()})\n",
    "\n"
   ]
  },
  {
   "cell_type": "code",
   "execution_count": 7,
   "metadata": {},
   "outputs": [],
   "source": [
    "expvals = []\n",
    "for pauli in H.paulis:\n",
    "    val = 0\n",
    "    if str(pauli) == \"I\":\n",
    "        Lambda = IGate().to_matrix().real\n",
    "\n",
    "    if str(pauli) == \"X\":\n",
    "        Lambda = XGate().to_matrix().real\n",
    "        val += Lambda[0][1] * quasi_dist.get(1)\n",
    "        val += Lambda[1][0] * quasi_dist.get(0)\n",
    "\n",
    "    if str(pauli) == \"Y\":\n",
    "        Lambda = YGate().to_matrix().real\n",
    "        val += Lambda[0][1] *1.j * quasi_dist.get(1)\n",
    "        val += Lambda[1][0] * -1.j * quasi_dist.get(0)\n",
    "\n",
    "    if str(pauli) == \"Z\":\n",
    "        Lambda = ZGate().to_matrix().real\n",
    "        val += Lambda[0][0] * quasi_dist.get(0)\n",
    "        val += Lambda[1][1] * quasi_dist.get(1)\n",
    "    \n",
    "    expvals.append(val)"
   ]
  },
  {
   "cell_type": "code",
   "execution_count": 8,
   "metadata": {},
   "outputs": [
    {
     "name": "stdout",
     "output_type": "stream",
     "text": [
      "sampler results\n",
      "Expected value of X: 1.00000\n",
      "Expected value of Z: 0.04400\n"
     ]
    }
   ],
   "source": [
    "print(\"sampler results\")\n",
    "for (pauli, expval) in zip (H.paulis, expvals):\n",
    "    print(f\"Expected value of {str(pauli)}: {expval:.5f}\")"
   ]
  },
  {
   "cell_type": "code",
   "execution_count": 9,
   "metadata": {},
   "outputs": [
    {
     "name": "stdout",
     "output_type": "stream",
     "text": [
      "Total excpected value = 1.95600\n"
     ]
    }
   ],
   "source": [
    "total_expval = np.sum(H.coeffs * expvals).real\n",
    "print(f\"Total excpected value = {total_expval:.5f}\")"
   ]
  },
  {
   "cell_type": "code",
   "execution_count": 11,
   "metadata": {},
   "outputs": [
    {
     "name": "stdout",
     "output_type": "stream",
     "text": [
      "estimator results\n",
      "expected value of X = 1.00000\n",
      "expected value of Z = 0.00000\n",
      "Total value is 2.00000\n"
     ]
    }
   ],
   "source": [
    "observables = [\n",
    "    *H.paulis, H\n",
    "]\n",
    "\n",
    "estimator = StatevectorEstimator()\n",
    "job = estimator.run([(original_circuit, observables)])\n",
    "estimator_expvals = job.result()[0].data.evs\n",
    "\n",
    "\n",
    "print(\"estimator results\")\n",
    "\n",
    "for (obs, expval) in zip(observables, estimator_expvals):\n",
    "    if obs is not H:\n",
    "        print(f\"expected value of {str(obs)} = {expval:.5f}\")\n",
    "    else:\n",
    "        print(f\"Total value is {expval:.5f}\")"
   ]
  }
 ],
 "metadata": {
  "kernelspec": {
   "display_name": "base",
   "language": "python",
   "name": "python3"
  },
  "language_info": {
   "codemirror_mode": {
    "name": "ipython",
    "version": 3
   },
   "file_extension": ".py",
   "mimetype": "text/x-python",
   "name": "python",
   "nbconvert_exporter": "python",
   "pygments_lexer": "ipython3",
   "version": "3.9.7"
  }
 },
 "nbformat": 4,
 "nbformat_minor": 2
}
