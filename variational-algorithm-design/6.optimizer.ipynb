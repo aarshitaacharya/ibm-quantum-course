{
 "cells": [
  {
   "cell_type": "markdown",
   "metadata": {},
   "source": [
    "### Optimizer\n",
    "The optimizer evaluates the cost function to select the next set of parameters in a variational loop, and repeats the process until it reaches a stable state."
   ]
  },
  {
   "cell_type": "code",
   "execution_count": 1,
   "metadata": {},
   "outputs": [],
   "source": [
    "from qiskit import QuantumCircuit\n",
    "from qiskit.quantum_info import SparsePauliOp\n",
    "from qiskit.circuit.library import TwoLocal\n",
    "import numpy as np"
   ]
  },
  {
   "cell_type": "code",
   "execution_count": 2,
   "metadata": {},
   "outputs": [
    {
     "data": {
      "image/png": "[encoded data removed]",
      "text/plain": [
       "<Figure size 447.652x144.48 with 1 Axes>"
      ]
     },
     "execution_count": 2,
     "metadata": {},
     "output_type": "execute_result"
    }
   ],
   "source": [
    "theta_list = (2 * np.pi * np.random.rand(1, 8)).tolist()\n",
    "observable = SparsePauliOp.from_list([(\"XX\", 1), (\"YY\", -3)])\n",
    "\n",
    "reference_circuit = QuantumCircuit(2)\n",
    "reference_circuit.x(0)\n",
    "\n",
    "variational_form = TwoLocal(\n",
    "    2, rotation_blocks=[\"rz\", \"ry\"], entanglement_blocks=\"cx\", entanglement=\"linear\", reps=1\n",
    ")\n",
    "\n",
    "ansatz = reference_circuit.compose(variational_form)\n",
    "ansatz.decompose().draw('mpl')"
   ]
  },
  {
   "cell_type": "code",
   "execution_count": 3,
   "metadata": {},
   "outputs": [],
   "source": [
    "def cost_func_vqe(params, ansatz, hamiltonian, estimator):\n",
    "    pub = (ansatz, hamiltonian, params)\n",
    "    cost = estimator.run([pub]).result()[0].data.evs\n",
    "    return cost"
   ]
  },
  {
   "cell_type": "code",
   "execution_count": 4,
   "metadata": {},
   "outputs": [],
   "source": [
    "from qiskit.primitives import StatevectorEstimator\n",
    "estimator = StatevectorEstimator()"
   ]
  },
  {
   "cell_type": "markdown",
   "metadata": {},
   "source": [
    "### Local Optimizers\n",
    "Local optimizers search for a point that minimizes the cost function starting at initial points. They converge fast usually, but heaviliy dependent on the initial point and are vulnerable to local minima"
   ]
  },
  {
   "cell_type": "code",
   "execution_count": 6,
   "metadata": {},
   "outputs": [
    {
     "name": "stdout",
     "output_type": "stream",
     "text": [
      "[1. 1. 1. 1. 1. 1. 1. 1.]\n"
     ]
    },
    {
     "data": {
      "text/plain": [
       " message: Optimization terminated successfully\n",
       " success: True\n",
       "  status: 0\n",
       "     fun: -3.99999999645274\n",
       "       x: [ 1.000e+00  1.000e+00 -1.571e+00 -4.556e-05 -1.207e+00\n",
       "           -1.935e+00  4.079e-01 -4.079e-01]\n",
       "     nit: 12\n",
       "     jac: [ 1.192e-07  2.980e-08 -7.959e-04  2.543e-04  1.381e-03\n",
       "            1.381e-03  5.431e-04  5.431e-04]\n",
       "    nfev: 112\n",
       "    njev: 12"
      ]
     },
     "execution_count": 6,
     "metadata": {},
     "output_type": "execute_result"
    }
   ],
   "source": [
    "from scipy.optimize import minimize\n",
    "\n",
    "x0 = np.ones(8)\n",
    "print(x0)\n",
    "\n",
    "result = minimize(cost_func_vqe, x0, args=(ansatz, observable, estimator), method=\"SLSQP\")\n",
    "\n",
    "result"
   ]
  },
  {
   "cell_type": "markdown",
   "metadata": {},
   "source": [
    "### Global Optimizers\n",
    "Its non-local, i.e. it searches for a point that minimizes the cost function over several regions of its domain. This takes time to converge, and is somewhat independent of initialization, but less susceptible to local minima."
   ]
  },
  {
   "cell_type": "markdown",
   "metadata": {},
   "source": [
    "### Bootstrapping Optimization\n",
    "Here we set the initial value for parameters based on a prior optimization that helps us converge to our solution faster. "
   ]
  },
  {
   "cell_type": "markdown",
   "metadata": {},
   "source": [
    "### Gradient Based Optimizers\n",
    "If we have a gradient of the function starting from the initial point, we update the parameters towards the direction of steepest descent of the function to minimize it. Main disadvantage is slow convergence, and no guarantee to achieve optimal solution"
   ]
  },
  {
   "cell_type": "code",
   "execution_count": 7,
   "metadata": {},
   "outputs": [],
   "source": [
    "x0 = np.ones(8)\n",
    "result = minimize(cost_func_vqe, x0, args=(ansatz, observable, estimator), method=\"BFGS\")"
   ]
  },
  {
   "cell_type": "code",
   "execution_count": 8,
   "metadata": {},
   "outputs": [
    {
     "data": {
      "text/plain": [
       "  message: Optimization terminated successfully.\n",
       "  success: True\n",
       "   status: 0\n",
       "      fun: -3.999999999999782\n",
       "        x: [ 1.000e+00  1.000e+00  1.571e+00  2.785e-07  2.009e-01\n",
       "            -2.009e-01  6.342e-01 -6.342e-01]\n",
       "      nit: 14\n",
       "      jac: [ 5.960e-08 -2.980e-08  8.941e-07  1.013e-06  2.086e-07\n",
       "             1.490e-07  5.960e-08  5.960e-08]\n",
       " hess_inv: [[ 1.000e+00 -2.999e-08 ... -7.780e-05 -6.011e-05]\n",
       "            [-2.999e-08  1.000e+00 ... -3.475e-06 -7.574e-07]\n",
       "            ...\n",
       "            [-7.780e-05 -3.475e-06 ...  7.242e-01 -2.603e-01]\n",
       "            [-6.011e-05 -7.574e-07 ... -2.603e-01  8.180e-01]]\n",
       "     nfev: 144\n",
       "     njev: 16"
      ]
     },
     "execution_count": 8,
     "metadata": {},
     "output_type": "execute_result"
    }
   ],
   "source": [
    "result"
   ]
  },
  {
   "cell_type": "markdown",
   "metadata": {},
   "source": [
    "### Gradient-Free Optimizers\n",
    "They are gradient free and tend to find global optima, wheras gradient-based methods tend to converge to local optima. However, gradient-free methods require higher computational resources."
   ]
  },
  {
   "cell_type": "code",
   "execution_count": 9,
   "metadata": {},
   "outputs": [
    {
     "data": {
      "text/plain": [
       " message: Optimization terminated successfully.\n",
       " success: True\n",
       "  status: 1\n",
       "     fun: -3.9999999832448676\n",
       "       x: [ 1.687e+00  1.250e+00  1.571e+00  3.142e+00  1.469e+00\n",
       "           -1.672e+00  1.556e+00  1.585e+00]\n",
       "    nfev: 126\n",
       "   maxcv: 0.0"
      ]
     },
     "execution_count": 9,
     "metadata": {},
     "output_type": "execute_result"
    }
   ],
   "source": [
    "x0 = np.ones(8)\n",
    "result = minimize(cost_func_vqe, x0, args=(ansatz, observable, estimator), method=\"COBYLA\")\n",
    "result"
   ]
  },
  {
   "cell_type": "markdown",
   "metadata": {},
   "source": [
    "### Barren Plateau\n",
    "Scenario where the cost landscape becomes progressively flatter, thus making it a challenge to determine the direction to the minimum"
   ]
  },
  {
   "cell_type": "markdown",
   "metadata": {},
   "source": [
    "Area is still under research. Bootstrapping, experimenting with hardware-efficient ansatz, error suppression, and mitigation, and gradient free optimizers are recommended"
   ]
  }
 ],
 "metadata": {
  "kernelspec": {
   "display_name": "base",
   "language": "python",
   "name": "python3"
  },
  "language_info": {
   "codemirror_mode": {
    "name": "ipython",
    "version": 3
   },
   "file_extension": ".py",
   "mimetype": "text/x-python",
   "name": "python",
   "nbconvert_exporter": "python",
   "pygments_lexer": "ipython3",
   "version": "3.9.7"
  }
 },
 "nbformat": 4,
 "nbformat_minor": 2
}
