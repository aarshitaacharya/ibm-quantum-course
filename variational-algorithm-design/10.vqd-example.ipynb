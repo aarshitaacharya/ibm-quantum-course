{
 "cells": [
  {
   "cell_type": "markdown",
   "metadata": {},
   "source": [
    "In this example:\n",
    "\n",
    "Observable is: 2II−3XX+2YY−4ZZ\n",
    "\n",
    "Eigenvalues are -7, 3, 5, 7\n",
    "\n",
    "Eigenstates are the bell states"
   ]
  },
  {
   "cell_type": "code",
   "execution_count": 1,
   "metadata": {},
   "outputs": [
    {
     "data": {
      "image/png": "[encoded data removed]",
      "text/plain": [
       "<Figure size 387.452x144.48 with 1 Axes>"
      ]
     },
     "execution_count": 1,
     "metadata": {},
     "output_type": "execute_result"
    }
   ],
   "source": [
    "from qiskit.circuit.library import TwoLocal\n",
    "\n",
    "ansatz = TwoLocal(2, rotation_blocks=[\"ry\", \"rz\"], entanglement_blocks=\"cz\", reps=1)\n",
    "\n",
    "ansatz.decompose().draw('mpl')"
   ]
  },
  {
   "cell_type": "code",
   "execution_count": 2,
   "metadata": {},
   "outputs": [],
   "source": [
    "from qiskit.quantum_info import SparsePauliOp\n",
    "\n",
    "observable_2 = SparsePauliOp.from_list([(\"II\", 2), (\"XX\", -3), (\"YY\", 2), (\"ZZ\", -4)])"
   ]
  },
  {
   "cell_type": "code",
   "execution_count": 3,
   "metadata": {},
   "outputs": [],
   "source": [
    "import numpy as np\n",
    "from qiskit.transpiler.preset_passmanagers import generate_preset_pass_manager\n",
    "\n",
    "def calculate_overlaps(ansatz, prev_circuits, parameters, sampler, realbackend,backend):\n",
    "\n",
    "    def create_fidelity_circuit(circuit_1, circuit_2):\n",
    "        if len(circuit_1.clbits) > 0:\n",
    "            circuit_1.remove_final_measurements()\n",
    "        if len(circuit_2.clbits) > 0:\n",
    "            circuit_2.remove_final_measurements()\n",
    "\n",
    "        circuit = circuit_1.compose(circuit_2.inverse())\n",
    "        circuit.measure_all()\n",
    "        return circuit\n",
    "    overlaps = []\n",
    "\n",
    "    for prev_circuit in prev_circuits:\n",
    "        fidelity_circuit = create_fidelity_circuit(ansatz, prev_circuit)\n",
    "        if realbackend == 1:\n",
    "            pm = generate_preset_pass_manager(backend=backend, optimization_level=3)\n",
    "            fidelity_circuit = pm.run(fidelity_circuit)\n",
    "        sampler_job = sampler.run([(fidelity_circuit, parameters)])\n",
    "        meas_data = sampler_job.result()[0].data.meas\n",
    "        \n",
    "        counts_0 = meas_data.get_int_counts().get(0, 0)\n",
    "        shots = meas_data.num_shots\n",
    "        overlap = counts_0/shots\n",
    "        overlaps.append(overlap)\n",
    "    \n",
    "    return np.array(overlaps)"
   ]
  },
  {
   "cell_type": "code",
   "execution_count": 4,
   "metadata": {},
   "outputs": [],
   "source": [
    "def cost_func_vqd(parameters, ansatz, prev_states, step, betas, estimator, sampler, hamiltonian, realbackend, backend):\n",
    "    \n",
    "    estimator_job = estimator.run([(ansatz, hamiltonian, [parameters])])\n",
    "\n",
    "    total_cost = 0\n",
    "\n",
    "    if step > 1:\n",
    "        overlaps = calculate_overlaps(ansatz, prev_states, parameters, sampler, realbackend, backend)\n",
    "        total_cost = np.sum([np.real(betas[state] * overlap) for state, overlap in enumerate(overlaps)])\n",
    "\n",
    "    estimator_result = estimator_job.result()[0]\n",
    "\n",
    "    value = estimator_result.data.evs[0] + total_cost\n",
    "\n",
    "    return value"
   ]
  },
  {
   "cell_type": "code",
   "execution_count": 6,
   "metadata": {},
   "outputs": [],
   "source": [
    "from qiskit.primitives import StatevectorSampler, StatevectorEstimator\n",
    "\n",
    "sampler = StatevectorSampler(default_shots=4092)\n",
    "estimator = StatevectorEstimator()"
   ]
  },
  {
   "cell_type": "code",
   "execution_count": 7,
   "metadata": {},
   "outputs": [],
   "source": [
    "from qiskit.quantum_info import SparsePauliOp\n",
    "import numpy as np\n",
    "\n",
    "k = 4\n",
    "betas = [50, 60, 40]\n",
    "x0 = np.ones(8)"
   ]
  },
  {
   "cell_type": "code",
   "execution_count": 8,
   "metadata": {},
   "outputs": [
    {
     "name": "stdout",
     "output_type": "stream",
     "text": [
      " message: Optimization terminated successfully.\n",
      " success: True\n",
      "  status: 1\n",
      "     fun: -6.999999999994419\n",
      "       x: [ 1.571e+00  1.571e+00  1.993e+00  2.163e+00  1.020e+00\n",
      "            1.214e+00  1.694e+00  2.788e+00]\n",
      "    nfev: 194\n",
      "   maxcv: 0.0\n",
      " message: Optimization terminated successfully.\n",
      " success: True\n",
      "  status: 1\n",
      "     fun: 3.3966621788962974\n",
      "       x: [ 1.175e+00  1.024e+00  1.226e+00  1.484e+00  1.197e+00\n",
      "            1.474e+00  8.152e-01  9.874e-01]\n",
      "    nfev: 134\n",
      "   maxcv: 0.0\n",
      " message: Optimization terminated successfully.\n",
      " success: True\n",
      "  status: 1\n",
      "     fun: 5.68524911308297\n",
      "       x: [ 2.807e+00  2.623e+00 -3.693e-01  3.938e-01  2.381e+00\n",
      "            2.174e-02  1.291e+00  1.899e+00]\n",
      "    nfev: 123\n",
      "   maxcv: 0.0\n",
      " message: Optimization terminated successfully.\n",
      " success: True\n",
      "  status: 1\n",
      "     fun: 7.195152621095726\n",
      "       x: [ 3.266e+00  2.455e+00  2.033e+00 -4.605e-01  4.086e-01\n",
      "            2.737e+00  2.264e+00  2.971e+00]\n",
      "    nfev: 115\n",
      "   maxcv: 0.0\n"
     ]
    }
   ],
   "source": [
    "from scipy.optimize import minimize\n",
    "\n",
    "prev_states = []\n",
    "prev_opt_parameters = []\n",
    "eigenvalues = []\n",
    "\n",
    "realbackend = 0\n",
    "\n",
    "for step in range(1, k + 1):\n",
    "    \n",
    "    if step > 1:\n",
    "        prev_states.append(ansatz.assign_parameters(prev_opt_parameters))\n",
    "    \n",
    "    result = minimize(cost_func_vqd, x0, args=(ansatz, prev_states, step, betas, estimator, sampler, observable_2, realbackend, None), method=\"COBYLA\", options={'maxiter': 200, 'tol':0.000001})\n",
    "    print(result)\n",
    "\n",
    "    prev_opt_parameters = result.x\n",
    "    eigenvalues.append(result.fun)"
   ]
  },
  {
   "cell_type": "code",
   "execution_count": 9,
   "metadata": {},
   "outputs": [
    {
     "data": {
      "text/plain": [
       "[-6.999999999994419, 3.3966621788962974, 5.68524911308297, 7.195152621095726]"
      ]
     },
     "execution_count": 9,
     "metadata": {},
     "output_type": "execute_result"
    }
   ],
   "source": [
    "eigenvalues"
   ]
  },
  {
   "cell_type": "markdown",
   "metadata": {},
   "source": [
    "We observe, that the results are close to the expected ones."
   ]
  },
  {
   "cell_type": "code",
   "execution_count": 10,
   "metadata": {},
   "outputs": [
    {
     "name": "stdout",
     "output_type": "stream",
     "text": [
      "Percent error: 7.97e-13\n",
      "Percent error: 1.32e-01\n",
      "Percent error: 1.37e-01\n",
      "Percent error: 2.79e-02\n"
     ]
    }
   ],
   "source": [
    "solution_eigenvalues = [-7, 3, 5, 7]\n",
    "\n",
    "for index, experimental_eigenvalue in enumerate(eigenvalues):\n",
    "    solution_eigenvalue = solution_eigenvalues[index]\n",
    "    \n",
    "    print(\n",
    "        f\"Percent error: {abs((experimental_eigenvalue - solution_eigenvalue)/solution_eigenvalue):.2e}\"\n",
    "    )"
   ]
  },
  {
   "cell_type": "markdown",
   "metadata": {},
   "source": [
    "Beta is supposed to be bigger than the difference between the eigenvalues. let us observe what happens when that condition is not satisfied"
   ]
  },
  {
   "cell_type": "code",
   "execution_count": 11,
   "metadata": {},
   "outputs": [],
   "source": [
    "from qiskit.quantum_info import SparsePauliOp\n",
    "\n",
    "k = 4\n",
    "betas = np.ones(3)\n",
    "x0 = np.zeros(8)"
   ]
  },
  {
   "cell_type": "code",
   "execution_count": 12,
   "metadata": {},
   "outputs": [
    {
     "name": "stdout",
     "output_type": "stream",
     "text": [
      " message: Maximum number of function evaluations has been exceeded.\n",
      " success: False\n",
      "  status: 2\n",
      "     fun: -3.942775915547547\n",
      "       x: [ 6.783e-01 -7.137e-01  2.081e-02 -1.683e-02 -4.348e-01\n",
      "            4.970e-01  2.792e-02  2.478e-02]\n",
      "    nfev: 200\n",
      "   maxcv: 0.0\n",
      " message: Optimization terminated successfully.\n",
      " success: True\n",
      "  status: 1\n",
      "     fun: -1.0515146272492557\n",
      "       x: [-1.344e-02  3.352e-03 -5.588e-04 -2.710e-01  4.204e-03\n",
      "           -1.794e-03  1.005e+00  3.534e-02]\n",
      "    nfev: 46\n",
      "   maxcv: 0.0\n",
      " message: Optimization terminated successfully.\n",
      " success: True\n",
      "  status: 1\n",
      "     fun: -0.056423687595772654\n",
      "       x: [ 9.708e-04 -6.174e-03  1.002e+00  1.087e-03 -6.099e-03\n",
      "           -7.957e-04 -4.347e-03  4.550e-04]\n",
      "    nfev: 41\n",
      "   maxcv: 0.0\n",
      " message: Optimization terminated successfully.\n",
      " success: True\n",
      "  status: 1\n",
      "     fun: 0.9549322225150054\n",
      "       x: [ 2.010e-04  8.588e-03  1.000e+00  2.536e-01 -9.053e-04\n",
      "           -3.709e-04  1.003e+00  1.735e-03]\n",
      "    nfev: 42\n",
      "   maxcv: 0.0\n"
     ]
    }
   ],
   "source": [
    "from scipy.optimize import minimize\n",
    "\n",
    "prev_states = []\n",
    "prev_opt_parameters = []\n",
    "eigenvalues = []\n",
    "\n",
    "realbackend = 0\n",
    "\n",
    "for step in range(1, k + 1):\n",
    "    \n",
    "    if step > 1:\n",
    "        prev_states.append(ansatz.assign_parameters(prev_opt_parameters))\n",
    "    \n",
    "    result = minimize(cost_func_vqd, x0, args=(ansatz, prev_states, step, betas, estimator, sampler, observable_2, realbackend, None), method=\"COBYLA\", options = {'tol' : 0.01, 'maxiter': 200})\n",
    "    print(result)\n",
    "\n",
    "    prev_opt_parameters = result.x\n",
    "    eigenvalues.append(result.fun)"
   ]
  },
  {
   "cell_type": "code",
   "execution_count": 13,
   "metadata": {},
   "outputs": [
    {
     "name": "stdout",
     "output_type": "stream",
     "text": [
      "Percent error: 4.37e-01\n",
      "Percent error: 1.35e+00\n",
      "Percent error: 1.01e+00\n",
      "Percent error: 8.64e-01\n"
     ]
    }
   ],
   "source": [
    "solution_eigenvalues = [-7, 3, 5, 7]\n",
    "\n",
    "for index, experimental_eigenvalue in enumerate(eigenvalues):\n",
    "    solution_eigenvalue = solution_eigenvalues[index]\n",
    "    \n",
    "    print(\n",
    "        f\"Percent error: {abs((experimental_eigenvalue - solution_eigenvalue)/solution_eigenvalue):.2e}\"\n",
    "    )"
   ]
  },
  {
   "cell_type": "code",
   "execution_count": 14,
   "metadata": {},
   "outputs": [
    {
     "data": {
      "text/plain": [
       "[-3.942775915547547,\n",
       " -1.0515146272492557,\n",
       " -0.056423687595772654,\n",
       " 0.9549322225150054]"
      ]
     },
     "execution_count": 14,
     "metadata": {},
     "output_type": "execute_result"
    }
   ],
   "source": [
    "eigenvalues"
   ]
  },
  {
   "cell_type": "markdown",
   "metadata": {},
   "source": [
    "Thus we got wrong output"
   ]
  },
  {
   "cell_type": "markdown",
   "metadata": {},
   "source": [
    "Running on real hardware:"
   ]
  },
  {
   "cell_type": "code",
   "execution_count": 15,
   "metadata": {},
   "outputs": [],
   "source": [
    "from qiskit_ibm_runtime import SamplerV2 as Sampler, EstimatorV2 as Estimator, Session, Options, QiskitRuntimeService\n",
    "\n",
    "service = QiskitRuntimeService(channel='ibm_quantum')\n",
    "backend = service.least_busy(operational=True, simulator=False)"
   ]
  },
  {
   "cell_type": "code",
   "execution_count": 16,
   "metadata": {},
   "outputs": [],
   "source": [
    "from qiskit.transpiler.preset_passmanagers import generate_preset_pass_manager\n",
    "\n",
    "pm = generate_preset_pass_manager(backend=backend, optimization_level=3)\n",
    "isa_ansatz = pm.run(ansatz)\n",
    "isa_observable = observable_2.apply_layout(layout = isa_ansatz.layout)"
   ]
  },
  {
   "cell_type": "code",
   "execution_count": null,
   "metadata": {},
   "outputs": [],
   "source": [
    "k = 2\n",
    "betas = [30, 50, 80]\n",
    "x0 = np.zeros(8)\n",
    "\n",
    "real_prev_states = []\n",
    "real_prev_opt_parameters = []\n",
    "real_eigenvalues = []\n",
    "\n",
    "realbackend = 1\n",
    "\n",
    "with Session(backend=backend) as session:\n",
    "\n",
    "    estimator = Estimator(session)\n",
    "    estimator.options.resilience_level = 1\n",
    "    estimator.options.default_shots = 4096\n",
    "    sampler = Sampler(session)\n",
    "    \n",
    "    for step in range(1, k + 1):\n",
    "    \n",
    "        if step > 1:\n",
    "            real_prev_states.append(isa_ansatz.assign_parameters(prev_opt_parameters))\n",
    "    \n",
    "        result = minimize(cost_func_vqd, x0, args=(isa_ansatz, real_prev_states, step, betas, estimator, sampler, isa_observable, realbackend, backend), method=\"COBYLA\", options = {'maxiter':200})\n",
    "        print(result)\n",
    "\n",
    "        real_prev_opt_parameters = result.x\n",
    "        real_eigenvalues.append(result.fun)\n",
    "\n",
    "session.close()\n",
    "print(real_eigenvalues)"
   ]
  }
 ],
 "metadata": {
  "kernelspec": {
   "display_name": "base",
   "language": "python",
   "name": "python3"
  },
  "language_info": {
   "codemirror_mode": {
    "name": "ipython",
    "version": 3
   },
   "file_extension": ".py",
   "mimetype": "text/x-python",
   "name": "python",
   "nbconvert_exporter": "python",
   "pygments_lexer": "ipython3",
   "version": "3.9.7"
  }
 },
 "nbformat": 4,
 "nbformat_minor": 2
}
